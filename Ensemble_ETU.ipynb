{
  "nbformat": 4,
  "nbformat_minor": 0,
  "metadata": {
    "colab": {
      "name": "Ensemble_ETU.ipynb",
      "provenance": [],
      "collapsed_sections": [],
      "mount_file_id": "1gzfPGuLqCP_BE7yDZfhnfHHYWqrBraSu",
      "authorship_tag": "ABX9TyNQ7s6Xc1oOxc+DUKC6ksy8",
      "include_colab_link": true
    },
    "kernelspec": {
      "name": "python3",
      "display_name": "Python 3"
    },
    "language_info": {
      "name": "python"
    }
  },
  "cells": [
    {
      "cell_type": "markdown",
      "metadata": {
        "id": "view-in-github",
        "colab_type": "text"
      },
      "source": [
        "<a href=\"https://colab.research.google.com/github/koshkit/VKR/blob/main/Ensemble_ETU.ipynb\" target=\"_parent\"><img src=\"https://colab.research.google.com/assets/colab-badge.svg\" alt=\"Open In Colab\"/></a>"
      ]
    },
    {
      "cell_type": "code",
      "source": [
        "# TensorFlow and tf.keras\n",
        "import tensorflow as tf \n",
        "from tensorflow.keras.applications import DenseNet201, InceptionV3, ResNet50\n",
        "from tensorflow.keras.optimizers import Adam\n",
        "#from tf.keras.callbacks import LearningRateScheduler, EarlyStopping"
      ],
      "metadata": {
        "id": "yB5PO4XEplZg"
      },
      "execution_count": 1,
      "outputs": []
    },
    {
      "cell_type": "code",
      "source": [
        "base_model = tf.keras.applications.DenseNet201(include_top=False, input_shape=(299,299,3))"
      ],
      "metadata": {
        "id": "X4GA5uQrRK6O"
      },
      "execution_count": null,
      "outputs": []
    },
    {
      "cell_type": "code",
      "source": [
        "base_model_1 = tf.keras.applications.InceptionV3(include_top=False, input_shape=(299,299,3))"
      ],
      "metadata": {
        "id": "s-4xdojzKbTk"
      },
      "execution_count": null,
      "outputs": []
    },
    {
      "cell_type": "code",
      "source": [
        "base_model_2 = tf.keras.applications.ResNet50(include_top=False, input_shape=(299,299,3))"
      ],
      "metadata": {
        "id": "gw1uxyVOKeRQ"
      },
      "execution_count": null,
      "outputs": []
    },
    {
      "cell_type": "code",
      "source": [
        "base_model.summary()"
      ],
      "metadata": {
        "id": "8RHZYaThRXYq"
      },
      "execution_count": null,
      "outputs": []
    },
    {
      "cell_type": "code",
      "source": [
        "import os\n",
        "import glob\n",
        "import numpy as np\n",
        "from numpy.ma.core import size\n",
        "import pandas as pd\n",
        "from pandas import DataFrame\n",
        "import matplotlib.pyplot as plt"
      ],
      "metadata": {
        "id": "tPo7_RdCaSif"
      },
      "execution_count": 17,
      "outputs": []
    },
    {
      "cell_type": "code",
      "source": [
        "#set path to dirs\n",
        "dir_covid = '/content/drive/MyDrive/Colab_Notebooks/COVID-19_Radiography_Dataset/COVID'\n",
        "dir_opacity = '/content/drive/MyDrive/Colab_Notebooks/COVID-19_Radiography_Dataset/Lung_Opacity'\n",
        "dir_normal = '/content/drive/MyDrive/Colab_Notebooks/COVID-19_Radiography_Dataset/Normal'\n",
        "dir_pneumonia = '/content/drive/MyDrive/Colab_Notebooks/COVID-19_Radiography_Dataset/Viral_Pneumonia'"
      ],
      "metadata": {
        "id": "SuSZjQRERXPb"
      },
      "execution_count": 1,
      "outputs": []
    },
    {
      "cell_type": "code",
      "source": [
        "#arrays dirs and classes\n",
        "dir_list=[dir_covid, dir_opacity, dir_normal, dir_pneumonia]\n",
        "classes=['covid', 'lung_opacity', 'normal', 'pneumonia']"
      ],
      "metadata": {
        "id": "3DEm2-irwXqF"
      },
      "execution_count": 2,
      "outputs": []
    },
    {
      "cell_type": "code",
      "source": [
        "#check dataset for integrity\n",
        "filepaths=[]\n",
        "labels=[]\n",
        "for d,c in zip(dir_list, classes):\n",
        "    flist=os.listdir(d)\n",
        "    for f in flist:\n",
        "        fpath=os.path.join (d,f)\n",
        "        filepaths.append(fpath)\n",
        "        labels.append(c)\n",
        "print ('filepaths: ', len(filepaths), '   labels: ', len(labels))"
      ],
      "metadata": {
        "colab": {
          "base_uri": "https://localhost:8080/"
        },
        "id": "hKniDZ67RW_g",
        "outputId": "4efa9557-151d-4527-cc97-00b1b1805eae"
      },
      "execution_count": 4,
      "outputs": [
        {
          "output_type": "stream",
          "name": "stdout",
          "text": [
            "filepaths:  21165    labels:  21165\n"
          ]
        }
      ]
    },
    {
      "cell_type": "code",
      "source": [
        "#create DataFrame\n",
        "Fseries=pd.Series(filepaths, name='file_paths')\n",
        "Lseries=pd.Series(labels, name='labels')\n",
        "df=pd.concat([Fseries,Lseries], axis=1)\n",
        "df=DataFrame(np.array(df).reshape(len(labels),2), columns = ['file_paths', 'labels'])"
      ],
      "metadata": {
        "id": "M87FOMLpzCOA"
      },
      "execution_count": 5,
      "outputs": []
    },
    {
      "cell_type": "code",
      "source": [
        "#print df params\n",
        "print(df['labels'].value_counts())"
      ],
      "metadata": {
        "colab": {
          "base_uri": "https://localhost:8080/"
        },
        "id": "j6LZVTYmzGwx",
        "outputId": "79fe89af-c3c9-43dc-c9e9-653d29cdc7c3"
      },
      "execution_count": 6,
      "outputs": [
        {
          "output_type": "stream",
          "name": "stdout",
          "text": [
            "normal          10192\n",
            "lung_opacity     6012\n",
            "covid            3616\n",
            "pneumonia        1345\n",
            "Name: labels, dtype: int64\n"
          ]
        }
      ]
    },
    {
      "cell_type": "code",
      "source": [
        "#plot df params\n",
        "df['labels'].value_counts().plot(kind=\"bar\", color = \"c\")\n",
        "plt.rc('font',size=20)\n",
        "plt.grid(True, c=\"0.45\")\n",
        "plt.show()"
      ],
      "metadata": {
        "colab": {
          "base_uri": "https://localhost:8080/",
          "height": 383
        },
        "id": "jDMpS26h151t",
        "outputId": "785fdc66-12aa-4d04-cdfa-4a422086855b"
      },
      "execution_count": 59,
      "outputs": [
        {
          "output_type": "display_data",
          "data": {
            "text/plain": [
              "<Figure size 432x288 with 1 Axes>"
            ],
            "image/png": "[encoded data removed]"
          },
          "metadata": {
            "needs_background": "light"
          }
        }
      ]
    },
    {
      "cell_type": "code",
      "source": [
        "#get class image index\n",
        "normal_count = df['labels'].value_counts()[0]\n",
        "lung_opacity_count = df['labels'].value_counts()[1]\n",
        "covid_count = df['labels'].value_counts()[2]\n",
        "pneumonia_count = df['labels'].value_counts()[3]\n",
        "normal_image_max_index = (df.labels.values == 'normal').argmax()\n",
        "print(normal_image_max_index)\n",
        "lung_opacity_max_index = (df.labels.values == 'lung_opacity').argmax()\n",
        "print(lung_opacity_max_index)"
      ],
      "metadata": {
        "colab": {
          "base_uri": "https://localhost:8080/"
        },
        "id": "fhoyI_ZMzdqf",
        "outputId": "65dbaa3e-e046-4ab3-c7e2-beff4ae532b7"
      },
      "execution_count": 7,
      "outputs": [
        {
          "output_type": "stream",
          "name": "stdout",
          "text": [
            "9628\n",
            "3616\n"
          ]
        }
      ]
    },
    {
      "cell_type": "code",
      "source": [
        "#drop line from df to 'covid' count\n",
        "for i in range(normal_count - covid_count):\n",
        "    df = df.drop([normal_image_max_index + i])\n",
        "    \n",
        "for n in range(lung_opacity_count - covid_count):\n",
        "    df = df.drop([lung_opacity_max_index + n])\n",
        "\n",
        "df['labels'].value_counts()"
      ],
      "metadata": {
        "colab": {
          "base_uri": "https://localhost:8080/"
        },
        "id": "bj9gbmEr6FaB",
        "outputId": "768a8784-3f25-4259-8cd8-52dffdee4b7c"
      },
      "execution_count": 8,
      "outputs": [
        {
          "output_type": "execute_result",
          "data": {
            "text/plain": [
              "covid           3616\n",
              "lung_opacity    3616\n",
              "normal          3616\n",
              "pneumonia       1345\n",
              "Name: labels, dtype: int64"
            ]
          },
          "metadata": {},
          "execution_count": 8
        }
      ]
    },
    {
      "cell_type": "code",
      "source": [
        "#add Chest X-Ray Images (Pneumonia) Dataset\n",
        "filepaths=[]\n",
        "labels=[]\n",
        "for file in glob.glob('/content/drive/MyDrive/Colab_Notebooks/PNEUMONIA/*.jpeg'):\n",
        "    filepaths.append(file)\n",
        "    labels.append('pneumonia')\n",
        "print ('filepaths: ', len(filepaths), '   labels: ', len(labels))"
      ],
      "metadata": {
        "colab": {
          "base_uri": "https://localhost:8080/"
        },
        "id": "8XEzr1rO6p-9",
        "outputId": "0ab11993-a78c-44fe-98c4-7e2780da455b"
      },
      "execution_count": 9,
      "outputs": [
        {
          "output_type": "stream",
          "name": "stdout",
          "text": [
            "filepaths:  3875    labels:  3875\n"
          ]
        }
      ]
    },
    {
      "cell_type": "code",
      "source": [
        "#create extra df\n",
        "fseries = pd.Series(filepaths, name='file_name', dtype='str')\n",
        "lseries = pd.Series(labels, name='label', dtype='str')\n",
        "extra_df = pd.concat([fseries, lseries], axis=1)\n",
        "extra_df = DataFrame(np.array(extra_df).reshape(len(labels),2), columns = ['file_paths', 'labels'])\n",
        "extra_df.head()"
      ],
      "metadata": {
        "colab": {
          "base_uri": "https://localhost:8080/",
          "height": 206
        },
        "id": "_xX3IZ8-QpU_",
        "outputId": "2301055c-b024-4c97-ae98-958677f00168"
      },
      "execution_count": 10,
      "outputs": [
        {
          "output_type": "execute_result",
          "data": {
            "text/plain": [
              "                                          file_paths     labels\n",
              "0  /content/drive/MyDrive/Colab_Notebooks/PNEUMON...  pneumonia\n",
              "1  /content/drive/MyDrive/Colab_Notebooks/PNEUMON...  pneumonia\n",
              "2  /content/drive/MyDrive/Colab_Notebooks/PNEUMON...  pneumonia\n",
              "3  /content/drive/MyDrive/Colab_Notebooks/PNEUMON...  pneumonia\n",
              "4  /content/drive/MyDrive/Colab_Notebooks/PNEUMON...  pneumonia"
            ],
            "text/html": [
              "\n",
              "  <div id=\"df-a795c1d3-b8d8-4dfc-bfc2-a35221da21ec\">\n",
              "    <div class=\"colab-df-container\">\n",
              "      <div>\n",
              "<style scoped>\n",
              "    .dataframe tbody tr th:only-of-type {\n",
              "        vertical-align: middle;\n",
              "    }\n",
              "\n",
              "    .dataframe tbody tr th {\n",
              "        vertical-align: top;\n",
              "    }\n",
              "\n",
              "    .dataframe thead th {\n",
              "        text-align: right;\n",
              "    }\n",
              "</style>\n",
              "<table border=\"1\" class=\"dataframe\">\n",
              "  <thead>\n",
              "    <tr style=\"text-align: right;\">\n",
              "      <th></th>\n",
              "      <th>file_paths</th>\n",
              "      <th>labels</th>\n",
              "    </tr>\n",
              "  </thead>\n",
              "  <tbody>\n",
              "    <tr>\n",
              "      <th>0</th>\n",
              "      <td>/content/drive/MyDrive/Colab_Notebooks/PNEUMON...</td>\n",
              "      <td>pneumonia</td>\n",
              "    </tr>\n",
              "    <tr>\n",
              "      <th>1</th>\n",
              "      <td>/content/drive/MyDrive/Colab_Notebooks/PNEUMON...</td>\n",
              "      <td>pneumonia</td>\n",
              "    </tr>\n",
              "    <tr>\n",
              "      <th>2</th>\n",
              "      <td>/content/drive/MyDrive/Colab_Notebooks/PNEUMON...</td>\n",
              "      <td>pneumonia</td>\n",
              "    </tr>\n",
              "    <tr>\n",
              "      <th>3</th>\n",
              "      <td>/content/drive/MyDrive/Colab_Notebooks/PNEUMON...</td>\n",
              "      <td>pneumonia</td>\n",
              "    </tr>\n",
              "    <tr>\n",
              "      <th>4</th>\n",
              "      <td>/content/drive/MyDrive/Colab_Notebooks/PNEUMON...</td>\n",
              "      <td>pneumonia</td>\n",
              "    </tr>\n",
              "  </tbody>\n",
              "</table>\n",
              "</div>\n",
              "      <button class=\"colab-df-convert\" onclick=\"convertToInteractive('df-a795c1d3-b8d8-4dfc-bfc2-a35221da21ec')\"\n",
              "              title=\"Convert this dataframe to an interactive table.\"\n",
              "              style=\"display:none;\">\n",
              "        \n",
              "  <svg xmlns=\"http://www.w3.org/2000/svg\" height=\"24px\"viewBox=\"0 0 24 24\"\n",
              "       width=\"24px\">\n",
              "    <path d=\"M0 0h24v24H0V0z\" fill=\"none\"/>\n",
              "    <path d=\"M18.56 5.44l.94 2.06.94-2.06 2.06-.94-2.06-.94-.94-2.06-.94 2.06-2.06.94zm-11 1L8.5 8.5l.94-2.06 2.06-.94-2.06-.94L8.5 2.5l-.94 2.06-2.06.94zm10 10l.94 2.06.94-2.06 2.06-.94-2.06-.94-.94-2.06-.94 2.06-2.06.94z\"/><path d=\"M17.41 7.96l-1.37-1.37c-.4-.4-.92-.59-1.43-.59-.52 0-1.04.2-1.43.59L10.3 9.45l-7.72 7.72c-.78.78-.78 2.05 0 2.83L4 21.41c.39.39.9.59 1.41.59.51 0 1.02-.2 1.41-.59l7.78-7.78 2.81-2.81c.8-.78.8-2.07 0-2.86zM5.41 20L4 18.59l7.72-7.72 1.47 1.35L5.41 20z\"/>\n",
              "  </svg>\n",
              "      </button>\n",
              "      \n",
              "  <style>\n",
              "    .colab-df-container {\n",
              "      display:flex;\n",
              "      flex-wrap:wrap;\n",
              "      gap: 12px;\n",
              "    }\n",
              "\n",
              "    .colab-df-convert {\n",
              "      background-color: #E8F0FE;\n",
              "      border: none;\n",
              "      border-radius: 50%;\n",
              "      cursor: pointer;\n",
              "      display: none;\n",
              "      fill: #1967D2;\n",
              "      height: 32px;\n",
              "      padding: 0 0 0 0;\n",
              "      width: 32px;\n",
              "    }\n",
              "\n",
              "    .colab-df-convert:hover {\n",
              "      background-color: #E2EBFA;\n",
              "      box-shadow: 0px 1px 2px rgba(60, 64, 67, 0.3), 0px 1px 3px 1px rgba(60, 64, 67, 0.15);\n",
              "      fill: #174EA6;\n",
              "    }\n",
              "\n",
              "    [theme=dark] .colab-df-convert {\n",
              "      background-color: #3B4455;\n",
              "      fill: #D2E3FC;\n",
              "    }\n",
              "\n",
              "    [theme=dark] .colab-df-convert:hover {\n",
              "      background-color: #434B5C;\n",
              "      box-shadow: 0px 1px 3px 1px rgba(0, 0, 0, 0.15);\n",
              "      filter: drop-shadow(0px 1px 2px rgba(0, 0, 0, 0.3));\n",
              "      fill: #FFFFFF;\n",
              "    }\n",
              "  </style>\n",
              "\n",
              "      <script>\n",
              "        const buttonEl =\n",
              "          document.querySelector('#df-a795c1d3-b8d8-4dfc-bfc2-a35221da21ec button.colab-df-convert');\n",
              "        buttonEl.style.display =\n",
              "          google.colab.kernel.accessAllowed ? 'block' : 'none';\n",
              "\n",
              "        async function convertToInteractive(key) {\n",
              "          const element = document.querySelector('#df-a795c1d3-b8d8-4dfc-bfc2-a35221da21ec');\n",
              "          const dataTable =\n",
              "            await google.colab.kernel.invokeFunction('convertToInteractive',\n",
              "                                                     [key], {});\n",
              "          if (!dataTable) return;\n",
              "\n",
              "          const docLinkHtml = 'Like what you see? Visit the ' +\n",
              "            '<a target=\"_blank\" href=https://colab.research.google.com/notebooks/data_table.ipynb>data table notebook</a>'\n",
              "            + ' to learn more about interactive tables.';\n",
              "          element.innerHTML = '';\n",
              "          dataTable['output_type'] = 'display_data';\n",
              "          await google.colab.output.renderOutput(dataTable, element);\n",
              "          const docLink = document.createElement('div');\n",
              "          docLink.innerHTML = docLinkHtml;\n",
              "          element.appendChild(docLink);\n",
              "        }\n",
              "      </script>\n",
              "    </div>\n",
              "  </div>\n",
              "  "
            ]
          },
          "metadata": {},
          "execution_count": 10
        }
      ]
    },
    {
      "cell_type": "code",
      "source": [
        "#merge df with extra_df\n",
        "df=pd.concat([df,extra_df], axis=0)\n",
        "df=df.reset_index()\n",
        "df['labels'].value_counts()\n",
        "df.head()"
      ],
      "metadata": {
        "colab": {
          "base_uri": "https://localhost:8080/",
          "height": 206
        },
        "id": "9pL4FDBYQ9i4",
        "outputId": "a00f094f-0471-4239-dbf1-a124694a12b2"
      },
      "execution_count": 11,
      "outputs": [
        {
          "output_type": "execute_result",
          "data": {
            "text/plain": [
              "   index                                         file_paths labels\n",
              "0      0  /content/drive/MyDrive/Colab_Notebooks/COVID-1...  covid\n",
              "1      1  /content/drive/MyDrive/Colab_Notebooks/COVID-1...  covid\n",
              "2      2  /content/drive/MyDrive/Colab_Notebooks/COVID-1...  covid\n",
              "3      3  /content/drive/MyDrive/Colab_Notebooks/COVID-1...  covid\n",
              "4      4  /content/drive/MyDrive/Colab_Notebooks/COVID-1...  covid"
            ],
            "text/html": [
              "\n",
              "  <div id=\"df-b7093cdb-646d-44ca-87a3-cbea27da7279\">\n",
              "    <div class=\"colab-df-container\">\n",
              "      <div>\n",
              "<style scoped>\n",
              "    .dataframe tbody tr th:only-of-type {\n",
              "        vertical-align: middle;\n",
              "    }\n",
              "\n",
              "    .dataframe tbody tr th {\n",
              "        vertical-align: top;\n",
              "    }\n",
              "\n",
              "    .dataframe thead th {\n",
              "        text-align: right;\n",
              "    }\n",
              "</style>\n",
              "<table border=\"1\" class=\"dataframe\">\n",
              "  <thead>\n",
              "    <tr style=\"text-align: right;\">\n",
              "      <th></th>\n",
              "      <th>index</th>\n",
              "      <th>file_paths</th>\n",
              "      <th>labels</th>\n",
              "    </tr>\n",
              "  </thead>\n",
              "  <tbody>\n",
              "    <tr>\n",
              "      <th>0</th>\n",
              "      <td>0</td>\n",
              "      <td>/content/drive/MyDrive/Colab_Notebooks/COVID-1...</td>\n",
              "      <td>covid</td>\n",
              "    </tr>\n",
              "    <tr>\n",
              "      <th>1</th>\n",
              "      <td>1</td>\n",
              "      <td>/content/drive/MyDrive/Colab_Notebooks/COVID-1...</td>\n",
              "      <td>covid</td>\n",
              "    </tr>\n",
              "    <tr>\n",
              "      <th>2</th>\n",
              "      <td>2</td>\n",
              "      <td>/content/drive/MyDrive/Colab_Notebooks/COVID-1...</td>\n",
              "      <td>covid</td>\n",
              "    </tr>\n",
              "    <tr>\n",
              "      <th>3</th>\n",
              "      <td>3</td>\n",
              "      <td>/content/drive/MyDrive/Colab_Notebooks/COVID-1...</td>\n",
              "      <td>covid</td>\n",
              "    </tr>\n",
              "    <tr>\n",
              "      <th>4</th>\n",
              "      <td>4</td>\n",
              "      <td>/content/drive/MyDrive/Colab_Notebooks/COVID-1...</td>\n",
              "      <td>covid</td>\n",
              "    </tr>\n",
              "  </tbody>\n",
              "</table>\n",
              "</div>\n",
              "      <button class=\"colab-df-convert\" onclick=\"convertToInteractive('df-b7093cdb-646d-44ca-87a3-cbea27da7279')\"\n",
              "              title=\"Convert this dataframe to an interactive table.\"\n",
              "              style=\"display:none;\">\n",
              "        \n",
              "  <svg xmlns=\"http://www.w3.org/2000/svg\" height=\"24px\"viewBox=\"0 0 24 24\"\n",
              "       width=\"24px\">\n",
              "    <path d=\"M0 0h24v24H0V0z\" fill=\"none\"/>\n",
              "    <path d=\"M18.56 5.44l.94 2.06.94-2.06 2.06-.94-2.06-.94-.94-2.06-.94 2.06-2.06.94zm-11 1L8.5 8.5l.94-2.06 2.06-.94-2.06-.94L8.5 2.5l-.94 2.06-2.06.94zm10 10l.94 2.06.94-2.06 2.06-.94-2.06-.94-.94-2.06-.94 2.06-2.06.94z\"/><path d=\"M17.41 7.96l-1.37-1.37c-.4-.4-.92-.59-1.43-.59-.52 0-1.04.2-1.43.59L10.3 9.45l-7.72 7.72c-.78.78-.78 2.05 0 2.83L4 21.41c.39.39.9.59 1.41.59.51 0 1.02-.2 1.41-.59l7.78-7.78 2.81-2.81c.8-.78.8-2.07 0-2.86zM5.41 20L4 18.59l7.72-7.72 1.47 1.35L5.41 20z\"/>\n",
              "  </svg>\n",
              "      </button>\n",
              "      \n",
              "  <style>\n",
              "    .colab-df-container {\n",
              "      display:flex;\n",
              "      flex-wrap:wrap;\n",
              "      gap: 12px;\n",
              "    }\n",
              "\n",
              "    .colab-df-convert {\n",
              "      background-color: #E8F0FE;\n",
              "      border: none;\n",
              "      border-radius: 50%;\n",
              "      cursor: pointer;\n",
              "      display: none;\n",
              "      fill: #1967D2;\n",
              "      height: 32px;\n",
              "      padding: 0 0 0 0;\n",
              "      width: 32px;\n",
              "    }\n",
              "\n",
              "    .colab-df-convert:hover {\n",
              "      background-color: #E2EBFA;\n",
              "      box-shadow: 0px 1px 2px rgba(60, 64, 67, 0.3), 0px 1px 3px 1px rgba(60, 64, 67, 0.15);\n",
              "      fill: #174EA6;\n",
              "    }\n",
              "\n",
              "    [theme=dark] .colab-df-convert {\n",
              "      background-color: #3B4455;\n",
              "      fill: #D2E3FC;\n",
              "    }\n",
              "\n",
              "    [theme=dark] .colab-df-convert:hover {\n",
              "      background-color: #434B5C;\n",
              "      box-shadow: 0px 1px 3px 1px rgba(0, 0, 0, 0.15);\n",
              "      filter: drop-shadow(0px 1px 2px rgba(0, 0, 0, 0.3));\n",
              "      fill: #FFFFFF;\n",
              "    }\n",
              "  </style>\n",
              "\n",
              "      <script>\n",
              "        const buttonEl =\n",
              "          document.querySelector('#df-b7093cdb-646d-44ca-87a3-cbea27da7279 button.colab-df-convert');\n",
              "        buttonEl.style.display =\n",
              "          google.colab.kernel.accessAllowed ? 'block' : 'none';\n",
              "\n",
              "        async function convertToInteractive(key) {\n",
              "          const element = document.querySelector('#df-b7093cdb-646d-44ca-87a3-cbea27da7279');\n",
              "          const dataTable =\n",
              "            await google.colab.kernel.invokeFunction('convertToInteractive',\n",
              "                                                     [key], {});\n",
              "          if (!dataTable) return;\n",
              "\n",
              "          const docLinkHtml = 'Like what you see? Visit the ' +\n",
              "            '<a target=\"_blank\" href=https://colab.research.google.com/notebooks/data_table.ipynb>data table notebook</a>'\n",
              "            + ' to learn more about interactive tables.';\n",
              "          element.innerHTML = '';\n",
              "          dataTable['output_type'] = 'display_data';\n",
              "          await google.colab.output.renderOutput(dataTable, element);\n",
              "          const docLink = document.createElement('div');\n",
              "          docLink.innerHTML = docLinkHtml;\n",
              "          element.appendChild(docLink);\n",
              "        }\n",
              "      </script>\n",
              "    </div>\n",
              "  </div>\n",
              "  "
            ]
          },
          "metadata": {},
          "execution_count": 11
        }
      ]
    },
    {
      "cell_type": "code",
      "source": [
        "pneumonia_count=df['labels'].value_counts()[3] + len(labels)"
      ],
      "metadata": {
        "id": "RIO2Btjxedc6"
      },
      "execution_count": 12,
      "outputs": []
    },
    {
      "cell_type": "code",
      "source": [
        "pneumonia_count_upd = pneumonia_count + len(labels)\n",
        "pneumonia_max_index=(df.labels.values == 'pneumonia').argmax()\n",
        "print(pneumonia_max_index)\n"
      ],
      "metadata": {
        "colab": {
          "base_uri": "https://localhost:8080/"
        },
        "id": "aS9BYdVxRGas",
        "outputId": "e6965e28-6b84-4393-9c84-c76f258637f7"
      },
      "execution_count": 13,
      "outputs": [
        {
          "output_type": "stream",
          "name": "stdout",
          "text": [
            "10848\n"
          ]
        }
      ]
    },
    {
      "cell_type": "code",
      "source": [
        "#drop surplus pneumonia\n",
        "for i in range(5220 - covid_count):\n",
        "    df = df.drop([pneumonia_max_index + i])"
      ],
      "metadata": {
        "id": "1Rdsv3GzSOPe"
      },
      "execution_count": 14,
      "outputs": []
    },
    {
      "cell_type": "code",
      "source": [
        "#plot current dataset state\n",
        "print(df['labels'].value_counts())\n",
        "df['labels'].value_counts().plot(kind=\"bar\", color = \"b\")\n",
        "plt.rc('font',size=20)\n",
        "plt.grid(True, c=\"0.45\")\n",
        "plt.show()"
      ],
      "metadata": {
        "colab": {
          "base_uri": "https://localhost:8080/",
          "height": 470
        },
        "id": "S4ZITOvvRScq",
        "outputId": "1ba0995f-4432-44e1-a784-2b636bfd75b6"
      },
      "execution_count": 19,
      "outputs": [
        {
          "output_type": "stream",
          "name": "stdout",
          "text": [
            "covid           3616\n",
            "lung_opacity    3616\n",
            "normal          3616\n",
            "pneumonia       3616\n",
            "Name: labels, dtype: int64\n"
          ]
        },
        {
          "output_type": "display_data",
          "data": {
            "text/plain": [
              "<Figure size 432x288 with 1 Axes>"
            ],
            "image/png": "[encoded data removed]"
          },
          "metadata": {
            "needs_background": "light"
          }
        }
      ]
    },
    {
      "cell_type": "code",
      "source": [
        "import pandas as pd\n",
        "data = pd.read_csv('/content/drive/MyDrive/Colab_Notebooks/COVID-19_Radiography_Dataset/metadata.csv')"
      ],
      "metadata": {
        "id": "gKCozI1_lw4p"
      },
      "execution_count": null,
      "outputs": []
    },
    {
      "cell_type": "code",
      "source": [
        "with open('/content/drive/MyDrive/Colab_Notebooks/COVID-19_Radiography_Dataset/metadata_write_test.csv', 'w') as writefile:\n",
        "    writefile.write(\"This is line TEST\")"
      ],
      "metadata": {
        "id": "WQ_XoCu21bvb"
      },
      "execution_count": null,
      "outputs": []
    },
    {
      "cell_type": "code",
      "source": [
        "import numpy as np\n",
        "from numpy import savetxt\n",
        "import pandas as pd\n",
        "\n",
        "#---\n",
        "\n",
        "# Create array\n",
        "arr = np.array([1, 2, 3, 4, 5])\n",
        "\n",
        "# save to csv file\n",
        "savetxt('arr.csv', arr, delimiter=',')  # You will see the results if you press in the File icon (left panel)"
      ],
      "metadata": {
        "id": "u5C8votb2yEb"
      },
      "execution_count": null,
      "outputs": []
    }
  ]
}