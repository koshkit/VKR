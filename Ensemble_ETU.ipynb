{
  "nbformat": 4,
  "nbformat_minor": 0,
  "metadata": {
    "colab": {
      "name": "Ensemble_ETU.ipynb",
      "provenance": [],
      "collapsed_sections": [],
      "mount_file_id": "1gzfPGuLqCP_BE7yDZfhnfHHYWqrBraSu",
      "authorship_tag": "ABX9TyMIC731KP7kInibMsL4AMBL",
      "include_colab_link": true
    },
    "kernelspec": {
      "name": "python3",
      "display_name": "Python 3"
    },
    "language_info": {
      "name": "python"
    }
  },
  "cells": [
    {
      "cell_type": "markdown",
      "metadata": {
        "id": "view-in-github",
        "colab_type": "text"
      },
      "source": [
        "<a href=\"https://colab.research.google.com/github/koshkit/VKR/blob/main/Ensemble_ETU.ipynb\" target=\"_parent\"><img src=\"https://colab.research.google.com/assets/colab-badge.svg\" alt=\"Open In Colab\"/></a>"
      ]
    },
    {
      "cell_type": "code",
      "source": [
        "#==============DATA_PRE-PROCESSING==========================#\n",
        "import os\n",
        "import glob\n",
        "import numpy as np\n",
        "from numpy.ma.core import size\n",
        "import pandas as pd\n",
        "from pandas import DataFrame\n",
        "import matplotlib.pyplot as plt\n",
        "\n",
        "#set path to dirs\n",
        "dir_covid = '/content/drive/MyDrive/Colab_Notebooks/COVID-19_Radiography_Dataset/COVID'\n",
        "dir_opacity = '/content/drive/MyDrive/Colab_Notebooks/COVID-19_Radiography_Dataset/Lung_Opacity'\n",
        "dir_normal = '/content/drive/MyDrive/Colab_Notebooks/COVID-19_Radiography_Dataset/Normal'\n",
        "dir_pneumonia = '/content/drive/MyDrive/Colab_Notebooks/COVID-19_Radiography_Dataset/Viral_Pneumonia'\n",
        "\n",
        "#arrays dirs and classes\n",
        "dir_list=[dir_covid, dir_opacity, dir_normal, dir_pneumonia]\n",
        "classes=['covid', 'lung_opacity', 'normal', 'pneumonia']"
      ],
      "metadata": {
        "id": "tPo7_RdCaSif"
      },
      "execution_count": null,
      "outputs": []
    },
    {
      "cell_type": "code",
      "source": [
        "#check dataset for integrity\n",
        "filepaths=[]\n",
        "labels=[]\n",
        "for d,c in zip(dir_list, classes):\n",
        "    flist=os.listdir(d)\n",
        "    for f in flist:\n",
        "        fpath=os.path.join (d,f)\n",
        "        filepaths.append(fpath)\n",
        "        labels.append(c)\n",
        "print ('filepaths: ', len(filepaths), '   labels: ', len(labels))"
      ],
      "metadata": {
        "id": "hKniDZ67RW_g"
      },
      "execution_count": null,
      "outputs": []
    },
    {
      "cell_type": "code",
      "source": [
        "#create DataFrame\n",
        "Fseries=pd.Series(filepaths, name='file_paths')\n",
        "Lseries=pd.Series(labels, name='labels')\n",
        "df=pd.concat([Fseries,Lseries], axis=1)\n",
        "df=DataFrame(np.array(df).reshape(len(labels),2), columns = ['file_paths', 'labels'])"
      ],
      "metadata": {
        "id": "M87FOMLpzCOA"
      },
      "execution_count": null,
      "outputs": []
    },
    {
      "cell_type": "code",
      "source": [
        "#print and plot df params\n",
        "print(df['labels'].value_counts())\n",
        "df['labels'].value_counts().plot(kind=\"bar\", color = \"c\")\n",
        "plt.rc('font',size=20)\n",
        "plt.grid(True, c=\"0.45\")\n",
        "plt.show()"
      ],
      "metadata": {
        "id": "jDMpS26h151t"
      },
      "execution_count": null,
      "outputs": []
    },
    {
      "cell_type": "code",
      "source": [
        "#get class image index\n",
        "normal_count = df['labels'].value_counts()[0]\n",
        "lung_opacity_count = df['labels'].value_counts()[1]\n",
        "covid_count = df['labels'].value_counts()[2]\n",
        "pneumonia_count = df['labels'].value_counts()[3]\n",
        "normal_image_max_index = (df.labels.values == 'normal').argmax()\n",
        "print(normal_image_max_index)\n",
        "lung_opacity_max_index = (df.labels.values == 'lung_opacity').argmax()\n",
        "print(lung_opacity_max_index)"
      ],
      "metadata": {
        "id": "fhoyI_ZMzdqf"
      },
      "execution_count": null,
      "outputs": []
    },
    {
      "cell_type": "code",
      "source": [
        "#drop rows from df to 'covid' count\n",
        "for i in range(normal_count - covid_count):\n",
        "    df = df.drop([normal_image_max_index + i])\n",
        "    \n",
        "for n in range(lung_opacity_count - covid_count):\n",
        "    df = df.drop([lung_opacity_max_index + n])\n",
        "\n",
        "df['labels'].value_counts()"
      ],
      "metadata": {
        "id": "bj9gbmEr6FaB"
      },
      "execution_count": null,
      "outputs": []
    },
    {
      "cell_type": "code",
      "source": [
        "#add Chest X-Ray Images (Pneumonia) Dataset\n",
        "filepaths=[]\n",
        "labels=[]\n",
        "for file in glob.glob('/content/drive/MyDrive/Colab_Notebooks/PNEUMONIA/*.jpeg'):\n",
        "    filepaths.append(file)\n",
        "    labels.append('pneumonia')\n",
        "print ('filepaths: ', len(filepaths), '   labels: ', len(labels))"
      ],
      "metadata": {
        "id": "8XEzr1rO6p-9"
      },
      "execution_count": null,
      "outputs": []
    },
    {
      "cell_type": "code",
      "source": [
        "#create extra df\n",
        "fseries = pd.Series(filepaths, name='file_name', dtype='str')\n",
        "lseries = pd.Series(labels, name='label', dtype='str')\n",
        "extra_df = pd.concat([fseries, lseries], axis=1)\n",
        "extra_df = DataFrame(np.array(extra_df).reshape(len(labels),2), columns = ['file_paths', 'labels'])\n",
        "extra_df.head()"
      ],
      "metadata": {
        "id": "_xX3IZ8-QpU_"
      },
      "execution_count": null,
      "outputs": []
    },
    {
      "cell_type": "code",
      "source": [
        "#merge df with extra_df\n",
        "df=pd.concat([df,extra_df], axis=0)\n",
        "df=df.reset_index()\n",
        "df['labels'].value_counts()\n",
        "df.head()"
      ],
      "metadata": {
        "id": "9pL4FDBYQ9i4"
      },
      "execution_count": null,
      "outputs": []
    },
    {
      "cell_type": "code",
      "source": [
        "pneumonia_count=df['labels'].value_counts()[3] + len(labels)\n",
        "pneumonia_count_upd = pneumonia_count + len(labels)\n",
        "pneumonia_max_index=(df.labels.values == 'pneumonia').argmax()\n",
        "print(pneumonia_max_index)"
      ],
      "metadata": {
        "id": "aS9BYdVxRGas"
      },
      "execution_count": null,
      "outputs": []
    },
    {
      "cell_type": "code",
      "source": [
        "#drop surplus pneumonia\n",
        "for i in range(5220 - covid_count):\n",
        "    df = df.drop([pneumonia_max_index + i])"
      ],
      "metadata": {
        "id": "1Rdsv3GzSOPe"
      },
      "execution_count": null,
      "outputs": []
    },
    {
      "cell_type": "code",
      "source": [
        "#plot current dataset state\n",
        "print(df['labels'].value_counts())\n",
        "df['labels'].value_counts().plot(kind=\"bar\", color = \"b\")\n",
        "plt.rc('font',size=20)\n",
        "plt.grid(True, c=\"0.45\")\n",
        "plt.show()\n",
        "#------------------DATA_PRE-PROCESSING---------------------------#"
      ],
      "metadata": {
        "id": "S4ZITOvvRScq"
      },
      "execution_count": null,
      "outputs": []
    }
  ]
}