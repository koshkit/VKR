{
  "nbformat": 4,
  "nbformat_minor": 0,
  "metadata": {
    "colab": {
      "name": " PreRelease_Ensemble_ResNet50_ETU.ipynb",
      "provenance": [],
      "collapsed_sections": [],
      "include_colab_link": true
    },
    "kernelspec": {
      "name": "python3",
      "display_name": "Python 3"
    },
    "language_info": {
      "name": "python"
    },
    "accelerator": "GPU",
    "gpuClass": "standard"
  },
  "cells": [
    {
      "cell_type": "markdown",
      "metadata": {
        "id": "view-in-github",
        "colab_type": "text"
      },
      "source": [
        "<a href=\"https://colab.research.google.com/github/koshkit/VKR/blob/pre_release/PreRelease_Ensemble_ResNet50_ETU.ipynb\" target=\"_parent\"><img src=\"https://colab.research.google.com/assets/colab-badge.svg\" alt=\"Open In Colab\"/></a>"
      ]
    },
    {
      "cell_type": "code",
      "source": [
        "#==============DATA_PRE-PROCESSING==========================#\n",
        "import os\n",
        "import random\n",
        "import glob\n",
        "import numpy as np\n",
        "from numpy.ma.core import size\n",
        "import pandas as pd\n",
        "from pandas import DataFrame\n",
        "import matplotlib.pyplot as plt\n",
        "\n",
        "import tensorflow as tf\n",
        "from tensorflow.keras.preprocessing.image import ImageDataGenerator\n",
        "from sklearn.model_selection import train_test_split\n",
        "\n",
        "#set path to dirs\n",
        "dir_covid = '/content/drive/MyDrive/Colab_Notebooks/COVID-19_Radiography_Dataset/COVID'\n",
        "dir_opacity = '/content/drive/MyDrive/Colab_Notebooks/COVID-19_Radiography_Dataset/Lung_Opacity'\n",
        "dir_normal = '/content/drive/MyDrive/Colab_Notebooks/COVID-19_Radiography_Dataset/Normal'\n",
        "dir_pneumonia = '/content/drive/MyDrive/Colab_Notebooks/COVID-19_Radiography_Dataset/Viral_Pneumonia'\n",
        "\n",
        "#arrays dirs and classes\n",
        "dir_list=[dir_covid, dir_opacity, dir_normal, dir_pneumonia]\n",
        "classes=['covid', 'lung_opacity', 'normal', 'pneumonia']"
      ],
      "metadata": {
        "id": "tPo7_RdCaSif"
      },
      "execution_count": 2,
      "outputs": []
    },
    {
      "cell_type": "code",
      "source": [
        "from google.colab import drive\n",
        "drive.mount('/content/drive')"
      ],
      "metadata": {
        "colab": {
          "base_uri": "https://localhost:8080/"
        },
        "id": "K7u26GOe1bpY",
        "outputId": "81d02759-3238-4563-ebac-c943fe786fdc"
      },
      "execution_count": 1,
      "outputs": [
        {
          "output_type": "stream",
          "name": "stdout",
          "text": [
            "Mounted at /content/drive\n"
          ]
        }
      ]
    },
    {
      "cell_type": "markdown",
      "source": [
        "# Новый раздел"
      ],
      "metadata": {
        "id": "Y-sCKMdVre4P"
      }
    },
    {
      "cell_type": "code",
      "source": [
        "#check dataset for integrity\n",
        "filepaths=[]\n",
        "labels=[]\n",
        "for d,c in zip(dir_list, classes):\n",
        "    flist=os.listdir(d)\n",
        "    for f in flist:\n",
        "        fpath=os.path.join (d,f)\n",
        "        filepaths.append(fpath)\n",
        "        labels.append(c)\n",
        "print ('filepaths: ', len(filepaths), '   labels: ', len(labels))"
      ],
      "metadata": {
        "id": "hKniDZ67RW_g",
        "colab": {
          "base_uri": "https://localhost:8080/"
        },
        "outputId": "37cff850-c3f2-4266-dc59-d1562bc466cc"
      },
      "execution_count": 3,
      "outputs": [
        {
          "output_type": "stream",
          "name": "stdout",
          "text": [
            "filepaths:  21167    labels:  21167\n"
          ]
        }
      ]
    },
    {
      "cell_type": "code",
      "source": [
        "#create DataFrame\n",
        "Fseries=pd.Series(filepaths, name='file_paths')\n",
        "Lseries=pd.Series(labels, name='labels')\n",
        "df=pd.concat([Fseries,Lseries], axis=1)\n",
        "df=DataFrame(np.array(df).reshape(len(labels),2), columns = ['file_paths', 'labels'])"
      ],
      "metadata": {
        "id": "M87FOMLpzCOA"
      },
      "execution_count": 4,
      "outputs": []
    },
    {
      "cell_type": "code",
      "source": [
        "#print and plot df params\n",
        "print(df['labels'].value_counts())\n",
        "df['labels'].value_counts().plot(kind=\"bar\", color = \"c\")\n",
        "plt.rc('font',size=20)\n",
        "plt.grid(True, c=\"0.45\")\n",
        "plt.show()"
      ],
      "metadata": {
        "id": "jDMpS26h151t",
        "colab": {
          "base_uri": "https://localhost:8080/",
          "height": 406
        },
        "outputId": "f79c51b0-1fa5-484f-f093-b5f3f0f08b81"
      },
      "execution_count": 5,
      "outputs": [
        {
          "output_type": "stream",
          "name": "stdout",
          "text": [
            "normal          10194\n",
            "lung_opacity     6012\n",
            "covid            3616\n",
            "pneumonia        1345\n",
            "Name: labels, dtype: int64\n"
          ]
        },
        {
          "output_type": "display_data",
          "data": {
            "text/plain": [
              "<Figure size 432x288 with 1 Axes>"
            ],
            "image/png": "[encoded data removed]"
          },
          "metadata": {
            "needs_background": "light"
          }
        }
      ]
    },
    {
      "cell_type": "code",
      "source": [
        "#get class image index\n",
        "normal_count = df['labels'].value_counts()[0]\n",
        "lung_opacity_count = df['labels'].value_counts()[1]\n",
        "covid_count = df['labels'].value_counts()[2]\n",
        "pneumonia_count = df['labels'].value_counts()[3]\n",
        "normal_image_max_index = (df.labels.values == 'normal').argmax()\n",
        "print(normal_image_max_index)\n",
        "lung_opacity_max_index = (df.labels.values == 'lung_opacity').argmax()\n",
        "print(lung_opacity_max_index)"
      ],
      "metadata": {
        "id": "fhoyI_ZMzdqf",
        "colab": {
          "base_uri": "https://localhost:8080/"
        },
        "outputId": "33bf1c6f-24b6-42a5-bae4-9ec1a6baa76f"
      },
      "execution_count": 6,
      "outputs": [
        {
          "output_type": "stream",
          "name": "stdout",
          "text": [
            "9628\n",
            "3616\n"
          ]
        }
      ]
    },
    {
      "cell_type": "code",
      "source": [
        "#drop rows from df to 'covid' count\n",
        "for i in range(normal_count - covid_count):\n",
        "    df = df.drop([normal_image_max_index + i])\n",
        "    \n",
        "for n in range(lung_opacity_count - covid_count):\n",
        "    df = df.drop([lung_opacity_max_index + n])\n",
        "\n",
        "df['labels'].value_counts()"
      ],
      "metadata": {
        "id": "bj9gbmEr6FaB",
        "colab": {
          "base_uri": "https://localhost:8080/"
        },
        "outputId": "8ba1fab8-2698-436c-a7bd-9e13c679aa3d"
      },
      "execution_count": 7,
      "outputs": [
        {
          "output_type": "execute_result",
          "data": {
            "text/plain": [
              "covid           3616\n",
              "lung_opacity    3616\n",
              "normal          3616\n",
              "pneumonia       1345\n",
              "Name: labels, dtype: int64"
            ]
          },
          "metadata": {},
          "execution_count": 7
        }
      ]
    },
    {
      "cell_type": "code",
      "source": [
        "#add Chest X-Ray Images (Pneumonia) Dataset\n",
        "filepaths=[]\n",
        "labels=[]\n",
        "for file in glob.glob('/content/drive/MyDrive/Colab_Notebooks/PNEUMONIA/*.jpeg'):\n",
        "    filepaths.append(file)\n",
        "    labels.append('pneumonia')\n",
        "print ('filepaths: ', len(filepaths), '   labels: ', len(labels))"
      ],
      "metadata": {
        "id": "8XEzr1rO6p-9",
        "colab": {
          "base_uri": "https://localhost:8080/"
        },
        "outputId": "20fbab85-b21e-41ee-a666-5bd8b5080fc5"
      },
      "execution_count": 8,
      "outputs": [
        {
          "output_type": "stream",
          "name": "stdout",
          "text": [
            "filepaths:  3875    labels:  3875\n"
          ]
        }
      ]
    },
    {
      "cell_type": "code",
      "source": [
        "#create extra df\n",
        "fseries = pd.Series(filepaths, name='file_name', dtype='str')\n",
        "lseries = pd.Series(labels, name='label', dtype='str')\n",
        "extra_df = pd.concat([fseries, lseries], axis=1)\n",
        "extra_df = DataFrame(np.array(extra_df).reshape(len(labels),2), columns = ['file_paths', 'labels'])\n",
        "extra_df.head()"
      ],
      "metadata": {
        "id": "_xX3IZ8-QpU_",
        "colab": {
          "base_uri": "https://localhost:8080/",
          "height": 206
        },
        "outputId": "37f8d45e-7e50-4db1-a107-41aca9ab20fe"
      },
      "execution_count": 9,
      "outputs": [
        {
          "output_type": "execute_result",
          "data": {
            "text/plain": [
              "                                          file_paths     labels\n",
              "0  /content/drive/MyDrive/Colab_Notebooks/PNEUMON...  pneumonia\n",
              "1  /content/drive/MyDrive/Colab_Notebooks/PNEUMON...  pneumonia\n",
              "2  /content/drive/MyDrive/Colab_Notebooks/PNEUMON...  pneumonia\n",
              "3  /content/drive/MyDrive/Colab_Notebooks/PNEUMON...  pneumonia\n",
              "4  /content/drive/MyDrive/Colab_Notebooks/PNEUMON...  pneumonia"
            ],
            "text/html": [
              "\n",
              "  <div id=\"df-a14c7a75-99f1-4836-a799-9a77a6bf57a6\">\n",
              "    <div class=\"colab-df-container\">\n",
              "      <div>\n",
              "<style scoped>\n",
              "    .dataframe tbody tr th:only-of-type {\n",
              "        vertical-align: middle;\n",
              "    }\n",
              "\n",
              "    .dataframe tbody tr th {\n",
              "        vertical-align: top;\n",
              "    }\n",
              "\n",
              "    .dataframe thead th {\n",
              "        text-align: right;\n",
              "    }\n",
              "</style>\n",
              "<table border=\"1\" class=\"dataframe\">\n",
              "  <thead>\n",
              "    <tr style=\"text-align: right;\">\n",
              "      <th></th>\n",
              "      <th>file_paths</th>\n",
              "      <th>labels</th>\n",
              "    </tr>\n",
              "  </thead>\n",
              "  <tbody>\n",
              "    <tr>\n",
              "      <th>0</th>\n",
              "      <td>/content/drive/MyDrive/Colab_Notebooks/PNEUMON...</td>\n",
              "      <td>pneumonia</td>\n",
              "    </tr>\n",
              "    <tr>\n",
              "      <th>1</th>\n",
              "      <td>/content/drive/MyDrive/Colab_Notebooks/PNEUMON...</td>\n",
              "      <td>pneumonia</td>\n",
              "    </tr>\n",
              "    <tr>\n",
              "      <th>2</th>\n",
              "      <td>/content/drive/MyDrive/Colab_Notebooks/PNEUMON...</td>\n",
              "      <td>pneumonia</td>\n",
              "    </tr>\n",
              "    <tr>\n",
              "      <th>3</th>\n",
              "      <td>/content/drive/MyDrive/Colab_Notebooks/PNEUMON...</td>\n",
              "      <td>pneumonia</td>\n",
              "    </tr>\n",
              "    <tr>\n",
              "      <th>4</th>\n",
              "      <td>/content/drive/MyDrive/Colab_Notebooks/PNEUMON...</td>\n",
              "      <td>pneumonia</td>\n",
              "    </tr>\n",
              "  </tbody>\n",
              "</table>\n",
              "</div>\n",
              "      <button class=\"colab-df-convert\" onclick=\"convertToInteractive('df-a14c7a75-99f1-4836-a799-9a77a6bf57a6')\"\n",
              "              title=\"Convert this dataframe to an interactive table.\"\n",
              "              style=\"display:none;\">\n",
              "        \n",
              "  <svg xmlns=\"http://www.w3.org/2000/svg\" height=\"24px\"viewBox=\"0 0 24 24\"\n",
              "       width=\"24px\">\n",
              "    <path d=\"M0 0h24v24H0V0z\" fill=\"none\"/>\n",
              "    <path d=\"M18.56 5.44l.94 2.06.94-2.06 2.06-.94-2.06-.94-.94-2.06-.94 2.06-2.06.94zm-11 1L8.5 8.5l.94-2.06 2.06-.94-2.06-.94L8.5 2.5l-.94 2.06-2.06.94zm10 10l.94 2.06.94-2.06 2.06-.94-2.06-.94-.94-2.06-.94 2.06-2.06.94z\"/><path d=\"M17.41 7.96l-1.37-1.37c-.4-.4-.92-.59-1.43-.59-.52 0-1.04.2-1.43.59L10.3 9.45l-7.72 7.72c-.78.78-.78 2.05 0 2.83L4 21.41c.39.39.9.59 1.41.59.51 0 1.02-.2 1.41-.59l7.78-7.78 2.81-2.81c.8-.78.8-2.07 0-2.86zM5.41 20L4 18.59l7.72-7.72 1.47 1.35L5.41 20z\"/>\n",
              "  </svg>\n",
              "      </button>\n",
              "      \n",
              "  <style>\n",
              "    .colab-df-container {\n",
              "      display:flex;\n",
              "      flex-wrap:wrap;\n",
              "      gap: 12px;\n",
              "    }\n",
              "\n",
              "    .colab-df-convert {\n",
              "      background-color: #E8F0FE;\n",
              "      border: none;\n",
              "      border-radius: 50%;\n",
              "      cursor: pointer;\n",
              "      display: none;\n",
              "      fill: #1967D2;\n",
              "      height: 32px;\n",
              "      padding: 0 0 0 0;\n",
              "      width: 32px;\n",
              "    }\n",
              "\n",
              "    .colab-df-convert:hover {\n",
              "      background-color: #E2EBFA;\n",
              "      box-shadow: 0px 1px 2px rgba(60, 64, 67, 0.3), 0px 1px 3px 1px rgba(60, 64, 67, 0.15);\n",
              "      fill: #174EA6;\n",
              "    }\n",
              "\n",
              "    [theme=dark] .colab-df-convert {\n",
              "      background-color: #3B4455;\n",
              "      fill: #D2E3FC;\n",
              "    }\n",
              "\n",
              "    [theme=dark] .colab-df-convert:hover {\n",
              "      background-color: #434B5C;\n",
              "      box-shadow: 0px 1px 3px 1px rgba(0, 0, 0, 0.15);\n",
              "      filter: drop-shadow(0px 1px 2px rgba(0, 0, 0, 0.3));\n",
              "      fill: #FFFFFF;\n",
              "    }\n",
              "  </style>\n",
              "\n",
              "      <script>\n",
              "        const buttonEl =\n",
              "          document.querySelector('#df-a14c7a75-99f1-4836-a799-9a77a6bf57a6 button.colab-df-convert');\n",
              "        buttonEl.style.display =\n",
              "          google.colab.kernel.accessAllowed ? 'block' : 'none';\n",
              "\n",
              "        async function convertToInteractive(key) {\n",
              "          const element = document.querySelector('#df-a14c7a75-99f1-4836-a799-9a77a6bf57a6');\n",
              "          const dataTable =\n",
              "            await google.colab.kernel.invokeFunction('convertToInteractive',\n",
              "                                                     [key], {});\n",
              "          if (!dataTable) return;\n",
              "\n",
              "          const docLinkHtml = 'Like what you see? Visit the ' +\n",
              "            '<a target=\"_blank\" href=https://colab.research.google.com/notebooks/data_table.ipynb>data table notebook</a>'\n",
              "            + ' to learn more about interactive tables.';\n",
              "          element.innerHTML = '';\n",
              "          dataTable['output_type'] = 'display_data';\n",
              "          await google.colab.output.renderOutput(dataTable, element);\n",
              "          const docLink = document.createElement('div');\n",
              "          docLink.innerHTML = docLinkHtml;\n",
              "          element.appendChild(docLink);\n",
              "        }\n",
              "      </script>\n",
              "    </div>\n",
              "  </div>\n",
              "  "
            ]
          },
          "metadata": {},
          "execution_count": 9
        }
      ]
    },
    {
      "cell_type": "code",
      "source": [
        "#merge df with extra_df\n",
        "df=pd.concat([df,extra_df], axis=0)\n",
        "df=df.reset_index()\n",
        "df['labels'].value_counts()\n",
        "df.head()"
      ],
      "metadata": {
        "id": "9pL4FDBYQ9i4",
        "colab": {
          "base_uri": "https://localhost:8080/",
          "height": 206
        },
        "outputId": "7a474d04-9294-4398-db8a-2c2af0a21d49"
      },
      "execution_count": 10,
      "outputs": [
        {
          "output_type": "execute_result",
          "data": {
            "text/plain": [
              "   index                                         file_paths labels\n",
              "0      0  /content/drive/MyDrive/Colab_Notebooks/COVID-1...  covid\n",
              "1      1  /content/drive/MyDrive/Colab_Notebooks/COVID-1...  covid\n",
              "2      2  /content/drive/MyDrive/Colab_Notebooks/COVID-1...  covid\n",
              "3      3  /content/drive/MyDrive/Colab_Notebooks/COVID-1...  covid\n",
              "4      4  /content/drive/MyDrive/Colab_Notebooks/COVID-1...  covid"
            ],
            "text/html": [
              "\n",
              "  <div id=\"df-7ac2dbd4-4b84-459e-8130-79915d33ab87\">\n",
              "    <div class=\"colab-df-container\">\n",
              "      <div>\n",
              "<style scoped>\n",
              "    .dataframe tbody tr th:only-of-type {\n",
              "        vertical-align: middle;\n",
              "    }\n",
              "\n",
              "    .dataframe tbody tr th {\n",
              "        vertical-align: top;\n",
              "    }\n",
              "\n",
              "    .dataframe thead th {\n",
              "        text-align: right;\n",
              "    }\n",
              "</style>\n",
              "<table border=\"1\" class=\"dataframe\">\n",
              "  <thead>\n",
              "    <tr style=\"text-align: right;\">\n",
              "      <th></th>\n",
              "      <th>index</th>\n",
              "      <th>file_paths</th>\n",
              "      <th>labels</th>\n",
              "    </tr>\n",
              "  </thead>\n",
              "  <tbody>\n",
              "    <tr>\n",
              "      <th>0</th>\n",
              "      <td>0</td>\n",
              "      <td>/content/drive/MyDrive/Colab_Notebooks/COVID-1...</td>\n",
              "      <td>covid</td>\n",
              "    </tr>\n",
              "    <tr>\n",
              "      <th>1</th>\n",
              "      <td>1</td>\n",
              "      <td>/content/drive/MyDrive/Colab_Notebooks/COVID-1...</td>\n",
              "      <td>covid</td>\n",
              "    </tr>\n",
              "    <tr>\n",
              "      <th>2</th>\n",
              "      <td>2</td>\n",
              "      <td>/content/drive/MyDrive/Colab_Notebooks/COVID-1...</td>\n",
              "      <td>covid</td>\n",
              "    </tr>\n",
              "    <tr>\n",
              "      <th>3</th>\n",
              "      <td>3</td>\n",
              "      <td>/content/drive/MyDrive/Colab_Notebooks/COVID-1...</td>\n",
              "      <td>covid</td>\n",
              "    </tr>\n",
              "    <tr>\n",
              "      <th>4</th>\n",
              "      <td>4</td>\n",
              "      <td>/content/drive/MyDrive/Colab_Notebooks/COVID-1...</td>\n",
              "      <td>covid</td>\n",
              "    </tr>\n",
              "  </tbody>\n",
              "</table>\n",
              "</div>\n",
              "      <button class=\"colab-df-convert\" onclick=\"convertToInteractive('df-7ac2dbd4-4b84-459e-8130-79915d33ab87')\"\n",
              "              title=\"Convert this dataframe to an interactive table.\"\n",
              "              style=\"display:none;\">\n",
              "        \n",
              "  <svg xmlns=\"http://www.w3.org/2000/svg\" height=\"24px\"viewBox=\"0 0 24 24\"\n",
              "       width=\"24px\">\n",
              "    <path d=\"M0 0h24v24H0V0z\" fill=\"none\"/>\n",
              "    <path d=\"M18.56 5.44l.94 2.06.94-2.06 2.06-.94-2.06-.94-.94-2.06-.94 2.06-2.06.94zm-11 1L8.5 8.5l.94-2.06 2.06-.94-2.06-.94L8.5 2.5l-.94 2.06-2.06.94zm10 10l.94 2.06.94-2.06 2.06-.94-2.06-.94-.94-2.06-.94 2.06-2.06.94z\"/><path d=\"M17.41 7.96l-1.37-1.37c-.4-.4-.92-.59-1.43-.59-.52 0-1.04.2-1.43.59L10.3 9.45l-7.72 7.72c-.78.78-.78 2.05 0 2.83L4 21.41c.39.39.9.59 1.41.59.51 0 1.02-.2 1.41-.59l7.78-7.78 2.81-2.81c.8-.78.8-2.07 0-2.86zM5.41 20L4 18.59l7.72-7.72 1.47 1.35L5.41 20z\"/>\n",
              "  </svg>\n",
              "      </button>\n",
              "      \n",
              "  <style>\n",
              "    .colab-df-container {\n",
              "      display:flex;\n",
              "      flex-wrap:wrap;\n",
              "      gap: 12px;\n",
              "    }\n",
              "\n",
              "    .colab-df-convert {\n",
              "      background-color: #E8F0FE;\n",
              "      border: none;\n",
              "      border-radius: 50%;\n",
              "      cursor: pointer;\n",
              "      display: none;\n",
              "      fill: #1967D2;\n",
              "      height: 32px;\n",
              "      padding: 0 0 0 0;\n",
              "      width: 32px;\n",
              "    }\n",
              "\n",
              "    .colab-df-convert:hover {\n",
              "      background-color: #E2EBFA;\n",
              "      box-shadow: 0px 1px 2px rgba(60, 64, 67, 0.3), 0px 1px 3px 1px rgba(60, 64, 67, 0.15);\n",
              "      fill: #174EA6;\n",
              "    }\n",
              "\n",
              "    [theme=dark] .colab-df-convert {\n",
              "      background-color: #3B4455;\n",
              "      fill: #D2E3FC;\n",
              "    }\n",
              "\n",
              "    [theme=dark] .colab-df-convert:hover {\n",
              "      background-color: #434B5C;\n",
              "      box-shadow: 0px 1px 3px 1px rgba(0, 0, 0, 0.15);\n",
              "      filter: drop-shadow(0px 1px 2px rgba(0, 0, 0, 0.3));\n",
              "      fill: #FFFFFF;\n",
              "    }\n",
              "  </style>\n",
              "\n",
              "      <script>\n",
              "        const buttonEl =\n",
              "          document.querySelector('#df-7ac2dbd4-4b84-459e-8130-79915d33ab87 button.colab-df-convert');\n",
              "        buttonEl.style.display =\n",
              "          google.colab.kernel.accessAllowed ? 'block' : 'none';\n",
              "\n",
              "        async function convertToInteractive(key) {\n",
              "          const element = document.querySelector('#df-7ac2dbd4-4b84-459e-8130-79915d33ab87');\n",
              "          const dataTable =\n",
              "            await google.colab.kernel.invokeFunction('convertToInteractive',\n",
              "                                                     [key], {});\n",
              "          if (!dataTable) return;\n",
              "\n",
              "          const docLinkHtml = 'Like what you see? Visit the ' +\n",
              "            '<a target=\"_blank\" href=https://colab.research.google.com/notebooks/data_table.ipynb>data table notebook</a>'\n",
              "            + ' to learn more about interactive tables.';\n",
              "          element.innerHTML = '';\n",
              "          dataTable['output_type'] = 'display_data';\n",
              "          await google.colab.output.renderOutput(dataTable, element);\n",
              "          const docLink = document.createElement('div');\n",
              "          docLink.innerHTML = docLinkHtml;\n",
              "          element.appendChild(docLink);\n",
              "        }\n",
              "      </script>\n",
              "    </div>\n",
              "  </div>\n",
              "  "
            ]
          },
          "metadata": {},
          "execution_count": 10
        }
      ]
    },
    {
      "cell_type": "code",
      "source": [
        "pneumonia_count_upd = pneumonia_count + len(labels)\n",
        "pneumonia_max_index=(df.labels.values == 'pneumonia').argmax()\n",
        "print(pneumonia_max_index)"
      ],
      "metadata": {
        "id": "aS9BYdVxRGas",
        "colab": {
          "base_uri": "https://localhost:8080/"
        },
        "outputId": "1a6d2a34-bcb8-4105-e379-9eb9a95444e1"
      },
      "execution_count": 11,
      "outputs": [
        {
          "output_type": "stream",
          "name": "stdout",
          "text": [
            "10848\n"
          ]
        }
      ]
    },
    {
      "cell_type": "code",
      "source": [
        "#drop surplus pneumonia\n",
        "for i in range(pneumonia_count_upd - covid_count):\n",
        "    df = df.drop([pneumonia_max_index + i])"
      ],
      "metadata": {
        "id": "1Rdsv3GzSOPe"
      },
      "execution_count": 12,
      "outputs": []
    },
    {
      "cell_type": "code",
      "source": [
        "#plot current dataset state\n",
        "print(df['labels'].value_counts())\n",
        "df['labels'].value_counts().plot(kind=\"bar\", color = \"b\")\n",
        "plt.rc('font',size=20)\n",
        "plt.grid(True, c=\"0.45\")\n",
        "plt.show()\n",
        "#------------------DATA_PRE-PROCESSING---------------------------#"
      ],
      "metadata": {
        "id": "S4ZITOvvRScq",
        "colab": {
          "base_uri": "https://localhost:8080/",
          "height": 470
        },
        "outputId": "f3390dce-be8d-4c44-b409-fc176f2bece2"
      },
      "execution_count": 13,
      "outputs": [
        {
          "output_type": "stream",
          "name": "stdout",
          "text": [
            "covid           3616\n",
            "lung_opacity    3616\n",
            "normal          3616\n",
            "pneumonia       3616\n",
            "Name: labels, dtype: int64\n"
          ]
        },
        {
          "output_type": "display_data",
          "data": {
            "text/plain": [
              "<Figure size 432x288 with 1 Axes>"
            ],
            "image/png": "[encoded data removed]"
          },
          "metadata": {
            "needs_background": "light"
          }
        }
      ]
    },
    {
      "cell_type": "code",
      "source": [
        "target_size=(299,299)\n",
        "batch_size=16"
      ],
      "metadata": {
        "id": "PC6UdoSBIdEP"
      },
      "execution_count": 14,
      "outputs": []
    },
    {
      "cell_type": "code",
      "source": [
        "train_datagen = ImageDataGenerator(rotation_range=20, zoom_range=0.2, preprocessing_function=tf.keras.applications.resnet_v2.preprocess_input, validation_split=0.1)\n",
        "test_datagen = ImageDataGenerator(preprocessing_function=tf.keras.applications.resnet_v2.preprocess_input)\n",
        "train_df, test_df = train_test_split(df, train_size=0.8, shuffle=True, random_state = 357)\n",
        "train_set = train_datagen.flow_from_dataframe(train_df, x_col='file_paths', y_col='labels', target_size=target_size, batch_size=batch_size, color_mode='rgb', shuffle=True, class_mode='categorical', subset='training')\n",
        "valid_set = train_datagen.flow_from_dataframe(train_df, x_col='file_paths', y_col='labels', target_size=target_size, batch_size=batch_size, color_mode='rgb', shuffle=True, class_mode='categorical', subset='validation')\n",
        "test_set = test_datagen.flow_from_dataframe(test_df, x_col='file_paths', y_col='labels', target_size=target_size, batch_size=batch_size, color_mode='rgb', shuffle=True, class_mode='categorical')\n",
        "test_x, test_y = next(test_set)"
      ],
      "metadata": {
        "colab": {
          "base_uri": "https://localhost:8080/"
        },
        "id": "sE_88blsHLjo",
        "outputId": "9d3d3fa5-639b-4722-84df-28286e1a730f"
      },
      "execution_count": 15,
      "outputs": [
        {
          "output_type": "stream",
          "name": "stdout",
          "text": [
            "Found 10414 validated image filenames belonging to 4 classes.\n",
            "Found 1157 validated image filenames belonging to 4 classes.\n",
            "Found 2893 validated image filenames belonging to 4 classes.\n"
          ]
        }
      ]
    },
    {
      "cell_type": "code",
      "source": [
        "train_df.head()"
      ],
      "metadata": {
        "colab": {
          "base_uri": "https://localhost:8080/",
          "height": 206
        },
        "id": "O-ZTQEecH3gO",
        "outputId": "39b6ff39-5c79-4dcc-d397-b24a11ef8eee"
      },
      "execution_count": 16,
      "outputs": [
        {
          "output_type": "execute_result",
          "data": {
            "text/plain": [
              "       index                                         file_paths        labels\n",
              "3821    6217  /content/drive/MyDrive/Colab_Notebooks/COVID-1...  lung_opacity\n",
              "15765   3572  /content/drive/MyDrive/Colab_Notebooks/PNEUMON...     pneumonia\n",
              "7409   16383  /content/drive/MyDrive/Colab_Notebooks/COVID-1...        normal\n",
              "9255   18229  /content/drive/MyDrive/Colab_Notebooks/COVID-1...        normal\n",
              "16021   3828  /content/drive/MyDrive/Colab_Notebooks/PNEUMON...     pneumonia"
            ],
            "text/html": [
              "\n",
              "  <div id=\"df-46fe74a0-75f2-46db-8f49-a2ee6f6994a5\">\n",
              "    <div class=\"colab-df-container\">\n",
              "      <div>\n",
              "<style scoped>\n",
              "    .dataframe tbody tr th:only-of-type {\n",
              "        vertical-align: middle;\n",
              "    }\n",
              "\n",
              "    .dataframe tbody tr th {\n",
              "        vertical-align: top;\n",
              "    }\n",
              "\n",
              "    .dataframe thead th {\n",
              "        text-align: right;\n",
              "    }\n",
              "</style>\n",
              "<table border=\"1\" class=\"dataframe\">\n",
              "  <thead>\n",
              "    <tr style=\"text-align: right;\">\n",
              "      <th></th>\n",
              "      <th>index</th>\n",
              "      <th>file_paths</th>\n",
              "      <th>labels</th>\n",
              "    </tr>\n",
              "  </thead>\n",
              "  <tbody>\n",
              "    <tr>\n",
              "      <th>3821</th>\n",
              "      <td>6217</td>\n",
              "      <td>/content/drive/MyDrive/Colab_Notebooks/COVID-1...</td>\n",
              "      <td>lung_opacity</td>\n",
              "    </tr>\n",
              "    <tr>\n",
              "      <th>15765</th>\n",
              "      <td>3572</td>\n",
              "      <td>/content/drive/MyDrive/Colab_Notebooks/PNEUMON...</td>\n",
              "      <td>pneumonia</td>\n",
              "    </tr>\n",
              "    <tr>\n",
              "      <th>7409</th>\n",
              "      <td>16383</td>\n",
              "      <td>/content/drive/MyDrive/Colab_Notebooks/COVID-1...</td>\n",
              "      <td>normal</td>\n",
              "    </tr>\n",
              "    <tr>\n",
              "      <th>9255</th>\n",
              "      <td>18229</td>\n",
              "      <td>/content/drive/MyDrive/Colab_Notebooks/COVID-1...</td>\n",
              "      <td>normal</td>\n",
              "    </tr>\n",
              "    <tr>\n",
              "      <th>16021</th>\n",
              "      <td>3828</td>\n",
              "      <td>/content/drive/MyDrive/Colab_Notebooks/PNEUMON...</td>\n",
              "      <td>pneumonia</td>\n",
              "    </tr>\n",
              "  </tbody>\n",
              "</table>\n",
              "</div>\n",
              "      <button class=\"colab-df-convert\" onclick=\"convertToInteractive('df-46fe74a0-75f2-46db-8f49-a2ee6f6994a5')\"\n",
              "              title=\"Convert this dataframe to an interactive table.\"\n",
              "              style=\"display:none;\">\n",
              "        \n",
              "  <svg xmlns=\"http://www.w3.org/2000/svg\" height=\"24px\"viewBox=\"0 0 24 24\"\n",
              "       width=\"24px\">\n",
              "    <path d=\"M0 0h24v24H0V0z\" fill=\"none\"/>\n",
              "    <path d=\"M18.56 5.44l.94 2.06.94-2.06 2.06-.94-2.06-.94-.94-2.06-.94 2.06-2.06.94zm-11 1L8.5 8.5l.94-2.06 2.06-.94-2.06-.94L8.5 2.5l-.94 2.06-2.06.94zm10 10l.94 2.06.94-2.06 2.06-.94-2.06-.94-.94-2.06-.94 2.06-2.06.94z\"/><path d=\"M17.41 7.96l-1.37-1.37c-.4-.4-.92-.59-1.43-.59-.52 0-1.04.2-1.43.59L10.3 9.45l-7.72 7.72c-.78.78-.78 2.05 0 2.83L4 21.41c.39.39.9.59 1.41.59.51 0 1.02-.2 1.41-.59l7.78-7.78 2.81-2.81c.8-.78.8-2.07 0-2.86zM5.41 20L4 18.59l7.72-7.72 1.47 1.35L5.41 20z\"/>\n",
              "  </svg>\n",
              "      </button>\n",
              "      \n",
              "  <style>\n",
              "    .colab-df-container {\n",
              "      display:flex;\n",
              "      flex-wrap:wrap;\n",
              "      gap: 12px;\n",
              "    }\n",
              "\n",
              "    .colab-df-convert {\n",
              "      background-color: #E8F0FE;\n",
              "      border: none;\n",
              "      border-radius: 50%;\n",
              "      cursor: pointer;\n",
              "      display: none;\n",
              "      fill: #1967D2;\n",
              "      height: 32px;\n",
              "      padding: 0 0 0 0;\n",
              "      width: 32px;\n",
              "    }\n",
              "\n",
              "    .colab-df-convert:hover {\n",
              "      background-color: #E2EBFA;\n",
              "      box-shadow: 0px 1px 2px rgba(60, 64, 67, 0.3), 0px 1px 3px 1px rgba(60, 64, 67, 0.15);\n",
              "      fill: #174EA6;\n",
              "    }\n",
              "\n",
              "    [theme=dark] .colab-df-convert {\n",
              "      background-color: #3B4455;\n",
              "      fill: #D2E3FC;\n",
              "    }\n",
              "\n",
              "    [theme=dark] .colab-df-convert:hover {\n",
              "      background-color: #434B5C;\n",
              "      box-shadow: 0px 1px 3px 1px rgba(0, 0, 0, 0.15);\n",
              "      filter: drop-shadow(0px 1px 2px rgba(0, 0, 0, 0.3));\n",
              "      fill: #FFFFFF;\n",
              "    }\n",
              "  </style>\n",
              "\n",
              "      <script>\n",
              "        const buttonEl =\n",
              "          document.querySelector('#df-46fe74a0-75f2-46db-8f49-a2ee6f6994a5 button.colab-df-convert');\n",
              "        buttonEl.style.display =\n",
              "          google.colab.kernel.accessAllowed ? 'block' : 'none';\n",
              "\n",
              "        async function convertToInteractive(key) {\n",
              "          const element = document.querySelector('#df-46fe74a0-75f2-46db-8f49-a2ee6f6994a5');\n",
              "          const dataTable =\n",
              "            await google.colab.kernel.invokeFunction('convertToInteractive',\n",
              "                                                     [key], {});\n",
              "          if (!dataTable) return;\n",
              "\n",
              "          const docLinkHtml = 'Like what you see? Visit the ' +\n",
              "            '<a target=\"_blank\" href=https://colab.research.google.com/notebooks/data_table.ipynb>data table notebook</a>'\n",
              "            + ' to learn more about interactive tables.';\n",
              "          element.innerHTML = '';\n",
              "          dataTable['output_type'] = 'display_data';\n",
              "          await google.colab.output.renderOutput(dataTable, element);\n",
              "          const docLink = document.createElement('div');\n",
              "          docLink.innerHTML = docLinkHtml;\n",
              "          element.appendChild(docLink);\n",
              "        }\n",
              "      </script>\n",
              "    </div>\n",
              "  </div>\n",
              "  "
            ]
          },
          "metadata": {},
          "execution_count": 16
        }
      ]
    },
    {
      "cell_type": "code",
      "source": [
        "test_df.head()"
      ],
      "metadata": {
        "colab": {
          "base_uri": "https://localhost:8080/",
          "height": 206
        },
        "id": "YltR80p3H-Jd",
        "outputId": "9163bbca-be6d-4bb5-d3c9-85ef6079e052"
      },
      "execution_count": 17,
      "outputs": [
        {
          "output_type": "execute_result",
          "data": {
            "text/plain": [
              "       index                                         file_paths        labels\n",
              "13991   1798  /content/drive/MyDrive/Colab_Notebooks/PNEUMON...     pneumonia\n",
              "1157    1157  /content/drive/MyDrive/Colab_Notebooks/COVID-1...         covid\n",
              "7848   16822  /content/drive/MyDrive/Colab_Notebooks/COVID-1...        normal\n",
              "5296    7692  /content/drive/MyDrive/Colab_Notebooks/COVID-1...  lung_opacity\n",
              "2527    2527  /content/drive/MyDrive/Colab_Notebooks/COVID-1...         covid"
            ],
            "text/html": [
              "\n",
              "  <div id=\"df-7bfac13d-bf36-44fd-906e-fed70efdbdf5\">\n",
              "    <div class=\"colab-df-container\">\n",
              "      <div>\n",
              "<style scoped>\n",
              "    .dataframe tbody tr th:only-of-type {\n",
              "        vertical-align: middle;\n",
              "    }\n",
              "\n",
              "    .dataframe tbody tr th {\n",
              "        vertical-align: top;\n",
              "    }\n",
              "\n",
              "    .dataframe thead th {\n",
              "        text-align: right;\n",
              "    }\n",
              "</style>\n",
              "<table border=\"1\" class=\"dataframe\">\n",
              "  <thead>\n",
              "    <tr style=\"text-align: right;\">\n",
              "      <th></th>\n",
              "      <th>index</th>\n",
              "      <th>file_paths</th>\n",
              "      <th>labels</th>\n",
              "    </tr>\n",
              "  </thead>\n",
              "  <tbody>\n",
              "    <tr>\n",
              "      <th>13991</th>\n",
              "      <td>1798</td>\n",
              "      <td>/content/drive/MyDrive/Colab_Notebooks/PNEUMON...</td>\n",
              "      <td>pneumonia</td>\n",
              "    </tr>\n",
              "    <tr>\n",
              "      <th>1157</th>\n",
              "      <td>1157</td>\n",
              "      <td>/content/drive/MyDrive/Colab_Notebooks/COVID-1...</td>\n",
              "      <td>covid</td>\n",
              "    </tr>\n",
              "    <tr>\n",
              "      <th>7848</th>\n",
              "      <td>16822</td>\n",
              "      <td>/content/drive/MyDrive/Colab_Notebooks/COVID-1...</td>\n",
              "      <td>normal</td>\n",
              "    </tr>\n",
              "    <tr>\n",
              "      <th>5296</th>\n",
              "      <td>7692</td>\n",
              "      <td>/content/drive/MyDrive/Colab_Notebooks/COVID-1...</td>\n",
              "      <td>lung_opacity</td>\n",
              "    </tr>\n",
              "    <tr>\n",
              "      <th>2527</th>\n",
              "      <td>2527</td>\n",
              "      <td>/content/drive/MyDrive/Colab_Notebooks/COVID-1...</td>\n",
              "      <td>covid</td>\n",
              "    </tr>\n",
              "  </tbody>\n",
              "</table>\n",
              "</div>\n",
              "      <button class=\"colab-df-convert\" onclick=\"convertToInteractive('df-7bfac13d-bf36-44fd-906e-fed70efdbdf5')\"\n",
              "              title=\"Convert this dataframe to an interactive table.\"\n",
              "              style=\"display:none;\">\n",
              "        \n",
              "  <svg xmlns=\"http://www.w3.org/2000/svg\" height=\"24px\"viewBox=\"0 0 24 24\"\n",
              "       width=\"24px\">\n",
              "    <path d=\"M0 0h24v24H0V0z\" fill=\"none\"/>\n",
              "    <path d=\"M18.56 5.44l.94 2.06.94-2.06 2.06-.94-2.06-.94-.94-2.06-.94 2.06-2.06.94zm-11 1L8.5 8.5l.94-2.06 2.06-.94-2.06-.94L8.5 2.5l-.94 2.06-2.06.94zm10 10l.94 2.06.94-2.06 2.06-.94-2.06-.94-.94-2.06-.94 2.06-2.06.94z\"/><path d=\"M17.41 7.96l-1.37-1.37c-.4-.4-.92-.59-1.43-.59-.52 0-1.04.2-1.43.59L10.3 9.45l-7.72 7.72c-.78.78-.78 2.05 0 2.83L4 21.41c.39.39.9.59 1.41.59.51 0 1.02-.2 1.41-.59l7.78-7.78 2.81-2.81c.8-.78.8-2.07 0-2.86zM5.41 20L4 18.59l7.72-7.72 1.47 1.35L5.41 20z\"/>\n",
              "  </svg>\n",
              "      </button>\n",
              "      \n",
              "  <style>\n",
              "    .colab-df-container {\n",
              "      display:flex;\n",
              "      flex-wrap:wrap;\n",
              "      gap: 12px;\n",
              "    }\n",
              "\n",
              "    .colab-df-convert {\n",
              "      background-color: #E8F0FE;\n",
              "      border: none;\n",
              "      border-radius: 50%;\n",
              "      cursor: pointer;\n",
              "      display: none;\n",
              "      fill: #1967D2;\n",
              "      height: 32px;\n",
              "      padding: 0 0 0 0;\n",
              "      width: 32px;\n",
              "    }\n",
              "\n",
              "    .colab-df-convert:hover {\n",
              "      background-color: #E2EBFA;\n",
              "      box-shadow: 0px 1px 2px rgba(60, 64, 67, 0.3), 0px 1px 3px 1px rgba(60, 64, 67, 0.15);\n",
              "      fill: #174EA6;\n",
              "    }\n",
              "\n",
              "    [theme=dark] .colab-df-convert {\n",
              "      background-color: #3B4455;\n",
              "      fill: #D2E3FC;\n",
              "    }\n",
              "\n",
              "    [theme=dark] .colab-df-convert:hover {\n",
              "      background-color: #434B5C;\n",
              "      box-shadow: 0px 1px 3px 1px rgba(0, 0, 0, 0.15);\n",
              "      filter: drop-shadow(0px 1px 2px rgba(0, 0, 0, 0.3));\n",
              "      fill: #FFFFFF;\n",
              "    }\n",
              "  </style>\n",
              "\n",
              "      <script>\n",
              "        const buttonEl =\n",
              "          document.querySelector('#df-7bfac13d-bf36-44fd-906e-fed70efdbdf5 button.colab-df-convert');\n",
              "        buttonEl.style.display =\n",
              "          google.colab.kernel.accessAllowed ? 'block' : 'none';\n",
              "\n",
              "        async function convertToInteractive(key) {\n",
              "          const element = document.querySelector('#df-7bfac13d-bf36-44fd-906e-fed70efdbdf5');\n",
              "          const dataTable =\n",
              "            await google.colab.kernel.invokeFunction('convertToInteractive',\n",
              "                                                     [key], {});\n",
              "          if (!dataTable) return;\n",
              "\n",
              "          const docLinkHtml = 'Like what you see? Visit the ' +\n",
              "            '<a target=\"_blank\" href=https://colab.research.google.com/notebooks/data_table.ipynb>data table notebook</a>'\n",
              "            + ' to learn more about interactive tables.';\n",
              "          element.innerHTML = '';\n",
              "          dataTable['output_type'] = 'display_data';\n",
              "          await google.colab.output.renderOutput(dataTable, element);\n",
              "          const docLink = document.createElement('div');\n",
              "          docLink.innerHTML = docLinkHtml;\n",
              "          element.appendChild(docLink);\n",
              "        }\n",
              "      </script>\n",
              "    </div>\n",
              "  </div>\n",
              "  "
            ]
          },
          "metadata": {},
          "execution_count": 17
        }
      ]
    },
    {
      "cell_type": "code",
      "source": [
        "print(test_df['labels'].value_counts())"
      ],
      "metadata": {
        "colab": {
          "base_uri": "https://localhost:8080/"
        },
        "id": "bjWb5DvNIOtG",
        "outputId": "6f5b6ae9-401f-4f0d-c7d9-6f0c4f191475"
      },
      "execution_count": 18,
      "outputs": [
        {
          "output_type": "stream",
          "name": "stdout",
          "text": [
            "normal          738\n",
            "lung_opacity    736\n",
            "covid           717\n",
            "pneumonia       702\n",
            "Name: labels, dtype: int64\n"
          ]
        }
      ]
    },
    {
      "cell_type": "code",
      "source": [
        "print(train_df['labels'].value_counts())\n",
        "#------------------DIVIDE_DATA_SET------------------------------#"
      ],
      "metadata": {
        "colab": {
          "base_uri": "https://localhost:8080/"
        },
        "id": "Lzv0dOyQIPMN",
        "outputId": "df6eb09d-23ad-4a9c-993b-09db02d4fbc1"
      },
      "execution_count": 19,
      "outputs": [
        {
          "output_type": "stream",
          "name": "stdout",
          "text": [
            "pneumonia       2914\n",
            "covid           2899\n",
            "lung_opacity    2880\n",
            "normal          2878\n",
            "Name: labels, dtype: int64\n"
          ]
        }
      ]
    },
    {
      "cell_type": "code",
      "source": [
        "from tensorflow.keras.applications import ResNet50V2\n",
        "from tensorflow.keras.optimizers import Adam\n",
        "from tensorflow.keras.callbacks import LearningRateScheduler, EarlyStopping"
      ],
      "metadata": {
        "id": "RbpSrn0tYnbk"
      },
      "execution_count": 20,
      "outputs": []
    },
    {
      "cell_type": "code",
      "source": [
        "input_shape = (299,299,3)\n",
        "classifier_activation='softmax'\n",
        "classes=4\n",
        "batch_size = 16\n",
        "learning_rate = 0.0001\n",
        "epochs = 20\n",
        "callbacks = None\n",
        "\n",
        "base_model = ResNet50V2(include_top = False, weights=None, input_shape = input_shape)"
      ],
      "metadata": {
        "id": "rLorDlc--Ayh"
      },
      "execution_count": 21,
      "outputs": []
    },
    {
      "cell_type": "code",
      "source": [
        "x = base_model.output"
      ],
      "metadata": {
        "id": "wmmsofwb-xu3"
      },
      "execution_count": 22,
      "outputs": []
    },
    {
      "cell_type": "code",
      "source": [
        "model = tf.keras.Sequential([\n",
        "    base_model, tf.keras.layers.GlobalAveragePooling2D(), tf.keras.layers.Dropout(0.2), tf.keras.layers.Dense(classes, activation='softmax')\n",
        "])"
      ],
      "metadata": {
        "id": "a7hofzHCBLhG"
      },
      "execution_count": 23,
      "outputs": []
    },
    {
      "cell_type": "code",
      "source": [
        "model.compile(optimizer=Adam(learning_rate=learning_rate),\n",
        "                  loss='categorical_crossentropy',\n",
        "                  metrics=['accuracy'])"
      ],
      "metadata": {
        "id": "lGbUi2HY-53N"
      },
      "execution_count": 24,
      "outputs": []
    },
    {
      "cell_type": "code",
      "source": [
        "patience = 1\n",
        "stop_patience = 5\n",
        "factor = 0.5\n",
        "\n",
        "callbacks = [\n",
        "    tf.keras.callbacks.EarlyStopping(patience=stop_patience, monitor='val_loss', verbose=1, restore_best_weights=True),\n",
        "    tf.keras.callbacks.ReduceLROnPlateau(monitor='val_loss', factor=factor, patience=patience, verbose=1)\n",
        "]"
      ],
      "metadata": {
        "id": "VFdrvEFfc_Q2"
      },
      "execution_count": 25,
      "outputs": []
    },
    {
      "cell_type": "code",
      "source": [
        "results = model.fit(train_set, epochs = epochs,\n",
        "                        validation_data = valid_set, \n",
        "                        batch_size = batch_size, \n",
        "                        callbacks = callbacks\n",
        "                        )"
      ],
      "metadata": {
        "id": "r3msL0pY-9AO",
        "outputId": "c08618bd-6bd4-4897-d7c9-fd9103cc645b",
        "colab": {
          "base_uri": "https://localhost:8080/"
        }
      },
      "execution_count": 26,
      "outputs": [
        {
          "output_type": "stream",
          "name": "stdout",
          "text": [
            "Epoch 1/20\n",
            "651/651 [==============================] - 2769s 4s/step - loss: 0.7911 - accuracy: 0.6808 - val_loss: 1.4246 - val_accuracy: 0.4728 - lr: 1.0000e-04\n",
            "Epoch 2/20\n",
            "651/651 [==============================] - 325s 498ms/step - loss: 0.5760 - accuracy: 0.7725 - val_loss: 0.6444 - val_accuracy: 0.7468 - lr: 1.0000e-04\n",
            "Epoch 3/20\n",
            "651/651 [==============================] - 323s 496ms/step - loss: 0.4648 - accuracy: 0.8141 - val_loss: 0.6424 - val_accuracy: 0.7589 - lr: 1.0000e-04\n",
            "Epoch 4/20\n",
            "651/651 [==============================] - ETA: 0s - loss: 0.4223 - accuracy: 0.8313\n",
            "Epoch 4: ReduceLROnPlateau reducing learning rate to 4.999999873689376e-05.\n",
            "651/651 [==============================] - 320s 491ms/step - loss: 0.4223 - accuracy: 0.8313 - val_loss: 0.6817 - val_accuracy: 0.7632 - lr: 1.0000e-04\n",
            "Epoch 5/20\n",
            "651/651 [==============================] - 319s 490ms/step - loss: 0.3222 - accuracy: 0.8766 - val_loss: 0.2956 - val_accuracy: 0.8876 - lr: 5.0000e-05\n",
            "Epoch 6/20\n",
            "651/651 [==============================] - ETA: 0s - loss: 0.3027 - accuracy: 0.8869\n",
            "Epoch 6: ReduceLROnPlateau reducing learning rate to 2.499999936844688e-05.\n",
            "651/651 [==============================] - 319s 489ms/step - loss: 0.3027 - accuracy: 0.8869 - val_loss: 0.3157 - val_accuracy: 0.8859 - lr: 5.0000e-05\n",
            "Epoch 7/20\n",
            "651/651 [==============================] - ETA: 0s - loss: 0.2511 - accuracy: 0.9020\n",
            "Epoch 7: ReduceLROnPlateau reducing learning rate to 1.249999968422344e-05.\n",
            "651/651 [==============================] - 319s 489ms/step - loss: 0.2511 - accuracy: 0.9020 - val_loss: 0.3801 - val_accuracy: 0.8643 - lr: 2.5000e-05\n",
            "Epoch 8/20\n",
            "651/651 [==============================] - 318s 489ms/step - loss: 0.2252 - accuracy: 0.9155 - val_loss: 0.2059 - val_accuracy: 0.9222 - lr: 1.2500e-05\n",
            "Epoch 9/20\n",
            "651/651 [==============================] - ETA: 0s - loss: 0.2065 - accuracy: 0.9240\n",
            "Epoch 9: ReduceLROnPlateau reducing learning rate to 6.24999984211172e-06.\n",
            "651/651 [==============================] - 320s 491ms/step - loss: 0.2065 - accuracy: 0.9240 - val_loss: 0.2440 - val_accuracy: 0.9092 - lr: 1.2500e-05\n",
            "Epoch 10/20\n",
            "651/651 [==============================] - ETA: 0s - loss: 0.1886 - accuracy: 0.9304\n",
            "Epoch 10: ReduceLROnPlateau reducing learning rate to 3.12499992105586e-06.\n",
            "651/651 [==============================] - 319s 490ms/step - loss: 0.1886 - accuracy: 0.9304 - val_loss: 0.2080 - val_accuracy: 0.9274 - lr: 6.2500e-06\n",
            "Epoch 11/20\n",
            "651/651 [==============================] - 318s 489ms/step - loss: 0.1794 - accuracy: 0.9322 - val_loss: 0.1737 - val_accuracy: 0.9334 - lr: 3.1250e-06\n",
            "Epoch 12/20\n",
            "651/651 [==============================] - 320s 492ms/step - loss: 0.1701 - accuracy: 0.9389 - val_loss: 0.1699 - val_accuracy: 0.9430 - lr: 3.1250e-06\n",
            "Epoch 13/20\n",
            "651/651 [==============================] - ETA: 0s - loss: 0.1700 - accuracy: 0.9371\n",
            "Epoch 13: ReduceLROnPlateau reducing learning rate to 1.56249996052793e-06.\n",
            "651/651 [==============================] - 319s 490ms/step - loss: 0.1700 - accuracy: 0.9371 - val_loss: 0.1961 - val_accuracy: 0.9274 - lr: 3.1250e-06\n",
            "Epoch 14/20\n",
            "651/651 [==============================] - 319s 489ms/step - loss: 0.1573 - accuracy: 0.9403 - val_loss: 0.1626 - val_accuracy: 0.9438 - lr: 1.5625e-06\n",
            "Epoch 15/20\n",
            "651/651 [==============================] - 319s 489ms/step - loss: 0.1665 - accuracy: 0.9415 - val_loss: 0.1599 - val_accuracy: 0.9378 - lr: 1.5625e-06\n",
            "Epoch 16/20\n",
            "651/651 [==============================] - ETA: 0s - loss: 0.1717 - accuracy: 0.9366\n",
            "Epoch 16: ReduceLROnPlateau reducing learning rate to 7.81249980263965e-07.\n",
            "651/651 [==============================] - 318s 488ms/step - loss: 0.1717 - accuracy: 0.9366 - val_loss: 0.1615 - val_accuracy: 0.9369 - lr: 1.5625e-06\n",
            "Epoch 17/20\n",
            "651/651 [==============================] - ETA: 0s - loss: 0.1551 - accuracy: 0.9424\n",
            "Epoch 17: ReduceLROnPlateau reducing learning rate to 3.906249901319825e-07.\n",
            "651/651 [==============================] - 318s 488ms/step - loss: 0.1551 - accuracy: 0.9424 - val_loss: 0.1717 - val_accuracy: 0.9378 - lr: 7.8125e-07\n",
            "Epoch 18/20\n",
            "651/651 [==============================] - ETA: 0s - loss: 0.1550 - accuracy: 0.9442\n",
            "Epoch 18: ReduceLROnPlateau reducing learning rate to 1.9531249506599124e-07.\n",
            "651/651 [==============================] - 318s 488ms/step - loss: 0.1550 - accuracy: 0.9442 - val_loss: 0.1647 - val_accuracy: 0.9369 - lr: 3.9062e-07\n",
            "Epoch 19/20\n",
            "651/651 [==============================] - 319s 490ms/step - loss: 0.1524 - accuracy: 0.9432 - val_loss: 0.1563 - val_accuracy: 0.9412 - lr: 1.9531e-07\n",
            "Epoch 20/20\n",
            "651/651 [==============================] - 319s 489ms/step - loss: 0.1588 - accuracy: 0.9422 - val_loss: 0.1544 - val_accuracy: 0.9481 - lr: 1.9531e-07\n"
          ]
        }
      ]
    },
    {
      "cell_type": "code",
      "source": [
        "model.summary()"
      ],
      "metadata": {
        "id": "CmF7Bp3P_RKM",
        "colab": {
          "base_uri": "https://localhost:8080/"
        },
        "outputId": "37383500-58ed-4147-a7f2-dc325d716755"
      },
      "execution_count": 27,
      "outputs": [
        {
          "output_type": "stream",
          "name": "stdout",
          "text": [
            "Model: \"sequential\"\n",
            "_________________________________________________________________\n",
            " Layer (type)                Output Shape              Param #   \n",
            "=================================================================\n",
            " resnet50v2 (Functional)     (None, 10, 10, 2048)      23564800  \n",
            "                                                                 \n",
            " global_average_pooling2d (G  (None, 2048)             0         \n",
            " lobalAveragePooling2D)                                          \n",
            "                                                                 \n",
            " dropout (Dropout)           (None, 2048)              0         \n",
            "                                                                 \n",
            " dense (Dense)               (None, 4)                 8196      \n",
            "                                                                 \n",
            "=================================================================\n",
            "Total params: 23,572,996\n",
            "Trainable params: 23,527,556\n",
            "Non-trainable params: 45,440\n",
            "_________________________________________________________________\n"
          ]
        }
      ]
    },
    {
      "cell_type": "code",
      "source": [
        "np.save('/content/sample_data/history_Res.npy', results.history)"
      ],
      "metadata": {
        "id": "5Pp9Iiy63MXw"
      },
      "execution_count": 28,
      "outputs": []
    },
    {
      "cell_type": "code",
      "source": [
        "save_model = '/content/sample_data/Res.h5'\n",
        "model.save(save_model)"
      ],
      "metadata": {
        "id": "6q6zgDBJ3cMa"
      },
      "execution_count": 29,
      "outputs": []
    },
    {
      "cell_type": "code",
      "source": [
        "plt.plot(results.history['accuracy'], label='accuracy')\n",
        "plt.plot(results.history['val_accuracy'], label = 'val_accuracy')\n",
        "plt.xlabel('Epoch')\n",
        "plt.ylabel('Accuracy')\n",
        "plt.ylim([0.5, 1])\n",
        "plt.legend(loc='lower right')"
      ],
      "metadata": {
        "id": "QuWZ-wKf_Tqs",
        "colab": {
          "base_uri": "https://localhost:8080/",
          "height": 322
        },
        "outputId": "b40bd888-feae-4360-e99a-132827d7ca89"
      },
      "execution_count": 30,
      "outputs": [
        {
          "output_type": "execute_result",
          "data": {
            "text/plain": [
              "<matplotlib.legend.Legend at 0x7f5052056590>"
            ]
          },
          "metadata": {},
          "execution_count": 30
        },
        {
          "output_type": "display_data",
          "data": {
            "text/plain": [
              "<Figure size 432x288 with 1 Axes>"
            ],
            "image/png": "[encoded data removed]"
          },
          "metadata": {
            "needs_background": "light"
          }
        }
      ]
    },
    {
      "cell_type": "code",
      "source": [
        "model.evaluate(test_set, batch_size=16)"
      ],
      "metadata": {
        "id": "9twFDeYc0TZn",
        "colab": {
          "base_uri": "https://localhost:8080/"
        },
        "outputId": "1ea80c2f-99f7-4add-cbdf-830732cc730f"
      },
      "execution_count": 31,
      "outputs": [
        {
          "output_type": "stream",
          "name": "stdout",
          "text": [
            "181/181 [==============================] - 643s 4s/step - loss: 0.1781 - accuracy: 0.9323\n"
          ]
        },
        {
          "output_type": "execute_result",
          "data": {
            "text/plain": [
              "[0.1780826598405838, 0.9322502613067627]"
            ]
          },
          "metadata": {},
          "execution_count": 31
        }
      ]
    },
    {
      "cell_type": "code",
      "source": [
        "model.predict(test_set)"
      ],
      "metadata": {
        "id": "YVTzlhd147IL",
        "colab": {
          "base_uri": "https://localhost:8080/"
        },
        "outputId": "deaf3bc4-fb71-4b36-de91-1c8ebc78d863"
      },
      "execution_count": 32,
      "outputs": [
        {
          "output_type": "execute_result",
          "data": {
            "text/plain": [
              "array([[1.5458077e-08, 6.4713862e-10, 4.9802376e-09, 1.0000000e+00],\n",
              "       [1.8911580e-05, 4.1357089e-02, 9.5850438e-01, 1.1966573e-04],\n",
              "       [1.4946597e-09, 5.8252532e-09, 5.3632540e-08, 1.0000000e+00],\n",
              "       ...,\n",
              "       [4.9953931e-03, 2.2595432e-02, 9.7018516e-01, 2.2240386e-03],\n",
              "       [6.6296320e-09, 1.2095307e-09, 1.1403677e-09, 1.0000000e+00],\n",
              "       [2.4130153e-10, 4.9886295e-10, 1.7318699e-08, 1.0000000e+00]],\n",
              "      dtype=float32)"
            ]
          },
          "metadata": {},
          "execution_count": 32
        }
      ]
    },
    {
      "cell_type": "code",
      "source": [
        "predict=model.predict(test_set)"
      ],
      "metadata": {
        "id": "18EiVT4ZeRaG"
      },
      "execution_count": 33,
      "outputs": []
    },
    {
      "cell_type": "code",
      "source": [
        "np.save('/content/sample_data/predict_Rex.npy', predict)"
      ],
      "metadata": {
        "id": "1G2w7dOYeiuN"
      },
      "execution_count": 34,
      "outputs": []
    },
    {
      "cell_type": "code",
      "source": [
        "len(predict)"
      ],
      "metadata": {
        "colab": {
          "base_uri": "https://localhost:8080/"
        },
        "id": "s5m22S5vew6Y",
        "outputId": "7ecf575e-b9d1-40c8-e741-8f8085ac7784"
      },
      "execution_count": 35,
      "outputs": [
        {
          "output_type": "execute_result",
          "data": {
            "text/plain": [
              "2893"
            ]
          },
          "metadata": {},
          "execution_count": 35
        }
      ]
    },
    {
      "cell_type": "code",
      "source": [
        "test_df"
      ],
      "metadata": {
        "colab": {
          "base_uri": "https://localhost:8080/",
          "height": 424
        },
        "id": "V-SsQXDwe045",
        "outputId": "9e1324b5-0561-4eac-b8bf-f6fdc27585e4"
      },
      "execution_count": 36,
      "outputs": [
        {
          "output_type": "execute_result",
          "data": {
            "text/plain": [
              "       index                                         file_paths        labels\n",
              "13991   1798  /content/drive/MyDrive/Colab_Notebooks/PNEUMON...     pneumonia\n",
              "1157    1157  /content/drive/MyDrive/Colab_Notebooks/COVID-1...         covid\n",
              "7848   16822  /content/drive/MyDrive/Colab_Notebooks/COVID-1...        normal\n",
              "5296    7692  /content/drive/MyDrive/Colab_Notebooks/COVID-1...  lung_opacity\n",
              "2527    2527  /content/drive/MyDrive/Colab_Notebooks/COVID-1...         covid\n",
              "...      ...                                                ...           ...\n",
              "7125    9521  /content/drive/MyDrive/Colab_Notebooks/COVID-1...  lung_opacity\n",
              "1209    1209  /content/drive/MyDrive/Colab_Notebooks/COVID-1...         covid\n",
              "4039    6435  /content/drive/MyDrive/Colab_Notebooks/COVID-1...  lung_opacity\n",
              "14153   1960  /content/drive/MyDrive/Colab_Notebooks/PNEUMON...     pneumonia\n",
              "2089    2089  /content/drive/MyDrive/Colab_Notebooks/COVID-1...         covid\n",
              "\n",
              "[2893 rows x 3 columns]"
            ],
            "text/html": [
              "\n",
              "  <div id=\"df-4f57bda2-eeae-4b12-98c7-4567a4ad95f0\">\n",
              "    <div class=\"colab-df-container\">\n",
              "      <div>\n",
              "<style scoped>\n",
              "    .dataframe tbody tr th:only-of-type {\n",
              "        vertical-align: middle;\n",
              "    }\n",
              "\n",
              "    .dataframe tbody tr th {\n",
              "        vertical-align: top;\n",
              "    }\n",
              "\n",
              "    .dataframe thead th {\n",
              "        text-align: right;\n",
              "    }\n",
              "</style>\n",
              "<table border=\"1\" class=\"dataframe\">\n",
              "  <thead>\n",
              "    <tr style=\"text-align: right;\">\n",
              "      <th></th>\n",
              "      <th>index</th>\n",
              "      <th>file_paths</th>\n",
              "      <th>labels</th>\n",
              "    </tr>\n",
              "  </thead>\n",
              "  <tbody>\n",
              "    <tr>\n",
              "      <th>13991</th>\n",
              "      <td>1798</td>\n",
              "      <td>/content/drive/MyDrive/Colab_Notebooks/PNEUMON...</td>\n",
              "      <td>pneumonia</td>\n",
              "    </tr>\n",
              "    <tr>\n",
              "      <th>1157</th>\n",
              "      <td>1157</td>\n",
              "      <td>/content/drive/MyDrive/Colab_Notebooks/COVID-1...</td>\n",
              "      <td>covid</td>\n",
              "    </tr>\n",
              "    <tr>\n",
              "      <th>7848</th>\n",
              "      <td>16822</td>\n",
              "      <td>/content/drive/MyDrive/Colab_Notebooks/COVID-1...</td>\n",
              "      <td>normal</td>\n",
              "    </tr>\n",
              "    <tr>\n",
              "      <th>5296</th>\n",
              "      <td>7692</td>\n",
              "      <td>/content/drive/MyDrive/Colab_Notebooks/COVID-1...</td>\n",
              "      <td>lung_opacity</td>\n",
              "    </tr>\n",
              "    <tr>\n",
              "      <th>2527</th>\n",
              "      <td>2527</td>\n",
              "      <td>/content/drive/MyDrive/Colab_Notebooks/COVID-1...</td>\n",
              "      <td>covid</td>\n",
              "    </tr>\n",
              "    <tr>\n",
              "      <th>...</th>\n",
              "      <td>...</td>\n",
              "      <td>...</td>\n",
              "      <td>...</td>\n",
              "    </tr>\n",
              "    <tr>\n",
              "      <th>7125</th>\n",
              "      <td>9521</td>\n",
              "      <td>/content/drive/MyDrive/Colab_Notebooks/COVID-1...</td>\n",
              "      <td>lung_opacity</td>\n",
              "    </tr>\n",
              "    <tr>\n",
              "      <th>1209</th>\n",
              "      <td>1209</td>\n",
              "      <td>/content/drive/MyDrive/Colab_Notebooks/COVID-1...</td>\n",
              "      <td>covid</td>\n",
              "    </tr>\n",
              "    <tr>\n",
              "      <th>4039</th>\n",
              "      <td>6435</td>\n",
              "      <td>/content/drive/MyDrive/Colab_Notebooks/COVID-1...</td>\n",
              "      <td>lung_opacity</td>\n",
              "    </tr>\n",
              "    <tr>\n",
              "      <th>14153</th>\n",
              "      <td>1960</td>\n",
              "      <td>/content/drive/MyDrive/Colab_Notebooks/PNEUMON...</td>\n",
              "      <td>pneumonia</td>\n",
              "    </tr>\n",
              "    <tr>\n",
              "      <th>2089</th>\n",
              "      <td>2089</td>\n",
              "      <td>/content/drive/MyDrive/Colab_Notebooks/COVID-1...</td>\n",
              "      <td>covid</td>\n",
              "    </tr>\n",
              "  </tbody>\n",
              "</table>\n",
              "<p>2893 rows × 3 columns</p>\n",
              "</div>\n",
              "      <button class=\"colab-df-convert\" onclick=\"convertToInteractive('df-4f57bda2-eeae-4b12-98c7-4567a4ad95f0')\"\n",
              "              title=\"Convert this dataframe to an interactive table.\"\n",
              "              style=\"display:none;\">\n",
              "        \n",
              "  <svg xmlns=\"http://www.w3.org/2000/svg\" height=\"24px\"viewBox=\"0 0 24 24\"\n",
              "       width=\"24px\">\n",
              "    <path d=\"M0 0h24v24H0V0z\" fill=\"none\"/>\n",
              "    <path d=\"M18.56 5.44l.94 2.06.94-2.06 2.06-.94-2.06-.94-.94-2.06-.94 2.06-2.06.94zm-11 1L8.5 8.5l.94-2.06 2.06-.94-2.06-.94L8.5 2.5l-.94 2.06-2.06.94zm10 10l.94 2.06.94-2.06 2.06-.94-2.06-.94-.94-2.06-.94 2.06-2.06.94z\"/><path d=\"M17.41 7.96l-1.37-1.37c-.4-.4-.92-.59-1.43-.59-.52 0-1.04.2-1.43.59L10.3 9.45l-7.72 7.72c-.78.78-.78 2.05 0 2.83L4 21.41c.39.39.9.59 1.41.59.51 0 1.02-.2 1.41-.59l7.78-7.78 2.81-2.81c.8-.78.8-2.07 0-2.86zM5.41 20L4 18.59l7.72-7.72 1.47 1.35L5.41 20z\"/>\n",
              "  </svg>\n",
              "      </button>\n",
              "      \n",
              "  <style>\n",
              "    .colab-df-container {\n",
              "      display:flex;\n",
              "      flex-wrap:wrap;\n",
              "      gap: 12px;\n",
              "    }\n",
              "\n",
              "    .colab-df-convert {\n",
              "      background-color: #E8F0FE;\n",
              "      border: none;\n",
              "      border-radius: 50%;\n",
              "      cursor: pointer;\n",
              "      display: none;\n",
              "      fill: #1967D2;\n",
              "      height: 32px;\n",
              "      padding: 0 0 0 0;\n",
              "      width: 32px;\n",
              "    }\n",
              "\n",
              "    .colab-df-convert:hover {\n",
              "      background-color: #E2EBFA;\n",
              "      box-shadow: 0px 1px 2px rgba(60, 64, 67, 0.3), 0px 1px 3px 1px rgba(60, 64, 67, 0.15);\n",
              "      fill: #174EA6;\n",
              "    }\n",
              "\n",
              "    [theme=dark] .colab-df-convert {\n",
              "      background-color: #3B4455;\n",
              "      fill: #D2E3FC;\n",
              "    }\n",
              "\n",
              "    [theme=dark] .colab-df-convert:hover {\n",
              "      background-color: #434B5C;\n",
              "      box-shadow: 0px 1px 3px 1px rgba(0, 0, 0, 0.15);\n",
              "      filter: drop-shadow(0px 1px 2px rgba(0, 0, 0, 0.3));\n",
              "      fill: #FFFFFF;\n",
              "    }\n",
              "  </style>\n",
              "\n",
              "      <script>\n",
              "        const buttonEl =\n",
              "          document.querySelector('#df-4f57bda2-eeae-4b12-98c7-4567a4ad95f0 button.colab-df-convert');\n",
              "        buttonEl.style.display =\n",
              "          google.colab.kernel.accessAllowed ? 'block' : 'none';\n",
              "\n",
              "        async function convertToInteractive(key) {\n",
              "          const element = document.querySelector('#df-4f57bda2-eeae-4b12-98c7-4567a4ad95f0');\n",
              "          const dataTable =\n",
              "            await google.colab.kernel.invokeFunction('convertToInteractive',\n",
              "                                                     [key], {});\n",
              "          if (!dataTable) return;\n",
              "\n",
              "          const docLinkHtml = 'Like what you see? Visit the ' +\n",
              "            '<a target=\"_blank\" href=https://colab.research.google.com/notebooks/data_table.ipynb>data table notebook</a>'\n",
              "            + ' to learn more about interactive tables.';\n",
              "          element.innerHTML = '';\n",
              "          dataTable['output_type'] = 'display_data';\n",
              "          await google.colab.output.renderOutput(dataTable, element);\n",
              "          const docLink = document.createElement('div');\n",
              "          docLink.innerHTML = docLinkHtml;\n",
              "          element.appendChild(docLink);\n",
              "        }\n",
              "      </script>\n",
              "    </div>\n",
              "  </div>\n",
              "  "
            ]
          },
          "metadata": {},
          "execution_count": 36
        }
      ]
    },
    {
      "cell_type": "code",
      "source": [
        "predict[0][0]"
      ],
      "metadata": {
        "colab": {
          "base_uri": "https://localhost:8080/"
        },
        "id": "DyOnVnJie3ub",
        "outputId": "4f992deb-201c-45ca-9b67-d8beb2d53ac5"
      },
      "execution_count": 39,
      "outputs": [
        {
          "output_type": "execute_result",
          "data": {
            "text/plain": [
              "0.9991621"
            ]
          },
          "metadata": {},
          "execution_count": 39
        }
      ]
    },
    {
      "cell_type": "code",
      "source": [
        "test_df"
      ],
      "metadata": {
        "colab": {
          "base_uri": "https://localhost:8080/",
          "height": 165
        },
        "id": "PuHtCDQEfKj7",
        "outputId": "e382abd2-b943-4670-bd23-cfa26c3294d5"
      },
      "execution_count": 42,
      "outputs": [
        {
          "output_type": "error",
          "ename": "TypeError",
          "evalue": "ignored",
          "traceback": [
            "\u001b[0;31m---------------------------------------------------------------------------\u001b[0m",
            "\u001b[0;31mTypeError\u001b[0m                                 Traceback (most recent call last)",
            "\u001b[0;32m<ipython-input-42-9499278cff04>\u001b[0m in \u001b[0;36m<module>\u001b[0;34m()\u001b[0m\n\u001b[0;32m----> 1\u001b[0;31m \u001b[0mtest_df\u001b[0m\u001b[0;34m(\u001b[0m\u001b[0;36m0\u001b[0m\u001b[0;34m)\u001b[0m\u001b[0;34m\u001b[0m\u001b[0;34m\u001b[0m\u001b[0m\n\u001b[0m",
            "\u001b[0;31mTypeError\u001b[0m: 'DataFrame' object is not callable"
          ]
        }
      ]
    }
  ]
}