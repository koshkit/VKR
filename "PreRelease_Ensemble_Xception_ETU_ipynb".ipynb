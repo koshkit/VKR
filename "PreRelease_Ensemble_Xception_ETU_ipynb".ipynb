{
  "nbformat": 4,
  "nbformat_minor": 0,
  "metadata": {
    "colab": {
      "name": "\"PreRelease_Ensemble_Xception_ETU.ipynb\"",
      "provenance": [],
      "collapsed_sections": [],
      "history_visible": true,
      "mount_file_id": "1bInBQzyUtadaUJW-Nr1eYD16lejFJnN_",
      "authorship_tag": "ABX9TyOK3/JscPwbN1QC2k26If64",
      "include_colab_link": true
    },
    "kernelspec": {
      "name": "python3",
      "display_name": "Python 3"
    },
    "language_info": {
      "name": "python"
    },
    "accelerator": "GPU",
    "gpuClass": "standard"
  },
  "cells": [
    {
      "cell_type": "markdown",
      "metadata": {
        "id": "view-in-github",
        "colab_type": "text"
      },
      "source": [
        "<a href=\"https://colab.research.google.com/github/koshkit/VKR/blob/pre_release/%22PreRelease_Ensemble_Xception_ETU_ipynb%22.ipynb\" target=\"_parent\"><img src=\"https://colab.research.google.com/assets/colab-badge.svg\" alt=\"Open In Colab\"/></a>"
      ]
    },
    {
      "cell_type": "code",
      "source": [
        "#==============DATA_PRE-PROCESSING==========================#\n",
        "import os\n",
        "import random\n",
        "import glob\n",
        "import numpy as np\n",
        "from numpy.ma.core import size\n",
        "import pandas as pd\n",
        "from pandas import DataFrame\n",
        "import matplotlib.pyplot as plt\n",
        "\n",
        "import tensorflow as tf\n",
        "from tensorflow.keras.preprocessing.image import ImageDataGenerator\n",
        "from sklearn.model_selection import train_test_split\n",
        "\n",
        "#set path to dirs\n",
        "dir_covid = '/content/drive/MyDrive/Colab_Notebooks/COVID-19_Radiography_Dataset/COVID'\n",
        "dir_opacity = '/content/drive/MyDrive/Colab_Notebooks/COVID-19_Radiography_Dataset/Lung_Opacity'\n",
        "dir_normal = '/content/drive/MyDrive/Colab_Notebooks/COVID-19_Radiography_Dataset/Normal'\n",
        "dir_pneumonia = '/content/drive/MyDrive/Colab_Notebooks/COVID-19_Radiography_Dataset/Viral_Pneumonia'\n",
        "\n",
        "#arrays dirs and classes\n",
        "dir_list=[dir_covid, dir_opacity, dir_normal, dir_pneumonia]\n",
        "classes=['covid', 'lung_opacity', 'normal', 'pneumonia']"
      ],
      "metadata": {
        "id": "tPo7_RdCaSif"
      },
      "execution_count": 1,
      "outputs": []
    },
    {
      "cell_type": "code",
      "source": [
        "#check dataset for integrity\n",
        "filepaths=[]\n",
        "labels=[]\n",
        "for d,c in zip(dir_list, classes):\n",
        "    flist=os.listdir(d)\n",
        "    for f in flist:\n",
        "        fpath=os.path.join (d,f)\n",
        "        filepaths.append(fpath)\n",
        "        labels.append(c)\n",
        "print ('filepaths: ', len(filepaths), '   labels: ', len(labels))"
      ],
      "metadata": {
        "id": "hKniDZ67RW_g",
        "colab": {
          "base_uri": "https://localhost:8080/"
        },
        "outputId": "cf8121d1-d471-4c06-df84-eec177d94899"
      },
      "execution_count": 2,
      "outputs": [
        {
          "output_type": "stream",
          "name": "stdout",
          "text": [
            "filepaths:  21165    labels:  21165\n"
          ]
        }
      ]
    },
    {
      "cell_type": "code",
      "source": [
        "#create DataFrame\n",
        "Fseries=pd.Series(filepaths, name='file_paths')\n",
        "Lseries=pd.Series(labels, name='labels')\n",
        "df=pd.concat([Fseries,Lseries], axis=1)\n",
        "df=DataFrame(np.array(df).reshape(len(labels),2), columns = ['file_paths', 'labels'])"
      ],
      "metadata": {
        "id": "M87FOMLpzCOA"
      },
      "execution_count": 3,
      "outputs": []
    },
    {
      "cell_type": "code",
      "source": [
        "#print and plot df params\n",
        "print(df['labels'].value_counts())\n",
        "df['labels'].value_counts().plot(kind=\"bar\", color = \"c\")\n",
        "plt.rc('font',size=20)\n",
        "plt.grid(True, c=\"0.45\")\n",
        "plt.show()"
      ],
      "metadata": {
        "id": "jDMpS26h151t",
        "colab": {
          "base_uri": "https://localhost:8080/",
          "height": 470
        },
        "outputId": "69be661a-8404-49e2-ef78-f3fdc5f26cd6"
      },
      "execution_count": 5,
      "outputs": [
        {
          "output_type": "stream",
          "name": "stdout",
          "text": [
            "normal          10192\n",
            "lung_opacity     6012\n",
            "covid            3616\n",
            "pneumonia        1345\n",
            "Name: labels, dtype: int64\n"
          ]
        },
        {
          "output_type": "display_data",
          "data": {
            "text/plain": [
              "<Figure size 432x288 with 1 Axes>"
            ],
            "image/png": "[encoded data removed]"
          },
          "metadata": {
            "needs_background": "light"
          }
        }
      ]
    },
    {
      "cell_type": "code",
      "source": [
        "#get class image index\n",
        "normal_count = df['labels'].value_counts()[0]\n",
        "lung_opacity_count = df['labels'].value_counts()[1]\n",
        "covid_count = df['labels'].value_counts()[2]\n",
        "pneumonia_count = df['labels'].value_counts()[3]\n",
        "normal_image_max_index = (df.labels.values == 'normal').argmax()\n",
        "print(normal_image_max_index)\n",
        "lung_opacity_max_index = (df.labels.values == 'lung_opacity').argmax()\n",
        "print(lung_opacity_max_index)"
      ],
      "metadata": {
        "id": "fhoyI_ZMzdqf",
        "colab": {
          "base_uri": "https://localhost:8080/"
        },
        "outputId": "12c925d3-19ee-4b11-c8c1-a25067e62c18"
      },
      "execution_count": 6,
      "outputs": [
        {
          "output_type": "stream",
          "name": "stdout",
          "text": [
            "9628\n",
            "3616\n"
          ]
        }
      ]
    },
    {
      "cell_type": "code",
      "source": [
        "#drop rows from df to 'covid' count\n",
        "for i in range(normal_count - covid_count):\n",
        "    df = df.drop([normal_image_max_index + i])\n",
        "    \n",
        "for n in range(lung_opacity_count - covid_count):\n",
        "    df = df.drop([lung_opacity_max_index + n])\n",
        "\n",
        "df['labels'].value_counts()"
      ],
      "metadata": {
        "id": "bj9gbmEr6FaB",
        "colab": {
          "base_uri": "https://localhost:8080/"
        },
        "outputId": "e280f493-62c4-4d8b-cef6-e01b243ee983"
      },
      "execution_count": 7,
      "outputs": [
        {
          "output_type": "execute_result",
          "data": {
            "text/plain": [
              "covid           3616\n",
              "lung_opacity    3616\n",
              "normal          3616\n",
              "pneumonia       1345\n",
              "Name: labels, dtype: int64"
            ]
          },
          "metadata": {},
          "execution_count": 7
        }
      ]
    },
    {
      "cell_type": "code",
      "source": [
        "#add Chest X-Ray Images (Pneumonia) Dataset\n",
        "filepaths=[]\n",
        "labels=[]\n",
        "for file in glob.glob('/content/drive/MyDrive/Colab_Notebooks/PNEUMONIA/*.jpeg'):\n",
        "    filepaths.append(file)\n",
        "    labels.append('pneumonia')\n",
        "print ('filepaths: ', len(filepaths), '   labels: ', len(labels))"
      ],
      "metadata": {
        "id": "8XEzr1rO6p-9",
        "colab": {
          "base_uri": "https://localhost:8080/"
        },
        "outputId": "5fee2f2c-0893-4d16-b06f-e0817b4acf5e"
      },
      "execution_count": 8,
      "outputs": [
        {
          "output_type": "stream",
          "name": "stdout",
          "text": [
            "filepaths:  3875    labels:  3875\n"
          ]
        }
      ]
    },
    {
      "cell_type": "code",
      "source": [
        "#create extra df\n",
        "fseries = pd.Series(filepaths, name='file_name', dtype='str')\n",
        "lseries = pd.Series(labels, name='label', dtype='str')\n",
        "extra_df = pd.concat([fseries, lseries], axis=1)\n",
        "extra_df = DataFrame(np.array(extra_df).reshape(len(labels),2), columns = ['file_paths', 'labels'])\n",
        "extra_df.head()"
      ],
      "metadata": {
        "id": "_xX3IZ8-QpU_",
        "colab": {
          "base_uri": "https://localhost:8080/",
          "height": 206
        },
        "outputId": "f3f6f4c0-73de-439e-ee3b-3eaf0b98f784"
      },
      "execution_count": 9,
      "outputs": [
        {
          "output_type": "execute_result",
          "data": {
            "text/plain": [
              "                                          file_paths     labels\n",
              "0  /content/drive/MyDrive/Colab_Notebooks/PNEUMON...  pneumonia\n",
              "1  /content/drive/MyDrive/Colab_Notebooks/PNEUMON...  pneumonia\n",
              "2  /content/drive/MyDrive/Colab_Notebooks/PNEUMON...  pneumonia\n",
              "3  /content/drive/MyDrive/Colab_Notebooks/PNEUMON...  pneumonia\n",
              "4  /content/drive/MyDrive/Colab_Notebooks/PNEUMON...  pneumonia"
            ],
            "text/html": [
              "\n",
              "  <div id=\"df-fa0be518-2c63-4319-a063-5888126899b3\">\n",
              "    <div class=\"colab-df-container\">\n",
              "      <div>\n",
              "<style scoped>\n",
              "    .dataframe tbody tr th:only-of-type {\n",
              "        vertical-align: middle;\n",
              "    }\n",
              "\n",
              "    .dataframe tbody tr th {\n",
              "        vertical-align: top;\n",
              "    }\n",
              "\n",
              "    .dataframe thead th {\n",
              "        text-align: right;\n",
              "    }\n",
              "</style>\n",
              "<table border=\"1\" class=\"dataframe\">\n",
              "  <thead>\n",
              "    <tr style=\"text-align: right;\">\n",
              "      <th></th>\n",
              "      <th>file_paths</th>\n",
              "      <th>labels</th>\n",
              "    </tr>\n",
              "  </thead>\n",
              "  <tbody>\n",
              "    <tr>\n",
              "      <th>0</th>\n",
              "      <td>/content/drive/MyDrive/Colab_Notebooks/PNEUMON...</td>\n",
              "      <td>pneumonia</td>\n",
              "    </tr>\n",
              "    <tr>\n",
              "      <th>1</th>\n",
              "      <td>/content/drive/MyDrive/Colab_Notebooks/PNEUMON...</td>\n",
              "      <td>pneumonia</td>\n",
              "    </tr>\n",
              "    <tr>\n",
              "      <th>2</th>\n",
              "      <td>/content/drive/MyDrive/Colab_Notebooks/PNEUMON...</td>\n",
              "      <td>pneumonia</td>\n",
              "    </tr>\n",
              "    <tr>\n",
              "      <th>3</th>\n",
              "      <td>/content/drive/MyDrive/Colab_Notebooks/PNEUMON...</td>\n",
              "      <td>pneumonia</td>\n",
              "    </tr>\n",
              "    <tr>\n",
              "      <th>4</th>\n",
              "      <td>/content/drive/MyDrive/Colab_Notebooks/PNEUMON...</td>\n",
              "      <td>pneumonia</td>\n",
              "    </tr>\n",
              "  </tbody>\n",
              "</table>\n",
              "</div>\n",
              "      <button class=\"colab-df-convert\" onclick=\"convertToInteractive('df-fa0be518-2c63-4319-a063-5888126899b3')\"\n",
              "              title=\"Convert this dataframe to an interactive table.\"\n",
              "              style=\"display:none;\">\n",
              "        \n",
              "  <svg xmlns=\"http://www.w3.org/2000/svg\" height=\"24px\"viewBox=\"0 0 24 24\"\n",
              "       width=\"24px\">\n",
              "    <path d=\"M0 0h24v24H0V0z\" fill=\"none\"/>\n",
              "    <path d=\"M18.56 5.44l.94 2.06.94-2.06 2.06-.94-2.06-.94-.94-2.06-.94 2.06-2.06.94zm-11 1L8.5 8.5l.94-2.06 2.06-.94-2.06-.94L8.5 2.5l-.94 2.06-2.06.94zm10 10l.94 2.06.94-2.06 2.06-.94-2.06-.94-.94-2.06-.94 2.06-2.06.94z\"/><path d=\"M17.41 7.96l-1.37-1.37c-.4-.4-.92-.59-1.43-.59-.52 0-1.04.2-1.43.59L10.3 9.45l-7.72 7.72c-.78.78-.78 2.05 0 2.83L4 21.41c.39.39.9.59 1.41.59.51 0 1.02-.2 1.41-.59l7.78-7.78 2.81-2.81c.8-.78.8-2.07 0-2.86zM5.41 20L4 18.59l7.72-7.72 1.47 1.35L5.41 20z\"/>\n",
              "  </svg>\n",
              "      </button>\n",
              "      \n",
              "  <style>\n",
              "    .colab-df-container {\n",
              "      display:flex;\n",
              "      flex-wrap:wrap;\n",
              "      gap: 12px;\n",
              "    }\n",
              "\n",
              "    .colab-df-convert {\n",
              "      background-color: #E8F0FE;\n",
              "      border: none;\n",
              "      border-radius: 50%;\n",
              "      cursor: pointer;\n",
              "      display: none;\n",
              "      fill: #1967D2;\n",
              "      height: 32px;\n",
              "      padding: 0 0 0 0;\n",
              "      width: 32px;\n",
              "    }\n",
              "\n",
              "    .colab-df-convert:hover {\n",
              "      background-color: #E2EBFA;\n",
              "      box-shadow: 0px 1px 2px rgba(60, 64, 67, 0.3), 0px 1px 3px 1px rgba(60, 64, 67, 0.15);\n",
              "      fill: #174EA6;\n",
              "    }\n",
              "\n",
              "    [theme=dark] .colab-df-convert {\n",
              "      background-color: #3B4455;\n",
              "      fill: #D2E3FC;\n",
              "    }\n",
              "\n",
              "    [theme=dark] .colab-df-convert:hover {\n",
              "      background-color: #434B5C;\n",
              "      box-shadow: 0px 1px 3px 1px rgba(0, 0, 0, 0.15);\n",
              "      filter: drop-shadow(0px 1px 2px rgba(0, 0, 0, 0.3));\n",
              "      fill: #FFFFFF;\n",
              "    }\n",
              "  </style>\n",
              "\n",
              "      <script>\n",
              "        const buttonEl =\n",
              "          document.querySelector('#df-fa0be518-2c63-4319-a063-5888126899b3 button.colab-df-convert');\n",
              "        buttonEl.style.display =\n",
              "          google.colab.kernel.accessAllowed ? 'block' : 'none';\n",
              "\n",
              "        async function convertToInteractive(key) {\n",
              "          const element = document.querySelector('#df-fa0be518-2c63-4319-a063-5888126899b3');\n",
              "          const dataTable =\n",
              "            await google.colab.kernel.invokeFunction('convertToInteractive',\n",
              "                                                     [key], {});\n",
              "          if (!dataTable) return;\n",
              "\n",
              "          const docLinkHtml = 'Like what you see? Visit the ' +\n",
              "            '<a target=\"_blank\" href=https://colab.research.google.com/notebooks/data_table.ipynb>data table notebook</a>'\n",
              "            + ' to learn more about interactive tables.';\n",
              "          element.innerHTML = '';\n",
              "          dataTable['output_type'] = 'display_data';\n",
              "          await google.colab.output.renderOutput(dataTable, element);\n",
              "          const docLink = document.createElement('div');\n",
              "          docLink.innerHTML = docLinkHtml;\n",
              "          element.appendChild(docLink);\n",
              "        }\n",
              "      </script>\n",
              "    </div>\n",
              "  </div>\n",
              "  "
            ]
          },
          "metadata": {},
          "execution_count": 9
        }
      ]
    },
    {
      "cell_type": "code",
      "source": [
        "#merge df with extra_df\n",
        "df=pd.concat([df,extra_df], axis=0)\n",
        "df=df.reset_index()\n",
        "df['labels'].value_counts()\n",
        "df.head()"
      ],
      "metadata": {
        "id": "9pL4FDBYQ9i4",
        "colab": {
          "base_uri": "https://localhost:8080/",
          "height": 206
        },
        "outputId": "f36d49f4-ec35-49fc-ce6a-2632f317afc8"
      },
      "execution_count": 10,
      "outputs": [
        {
          "output_type": "execute_result",
          "data": {
            "text/plain": [
              "   index                                         file_paths labels\n",
              "0      0  /content/drive/MyDrive/Colab_Notebooks/COVID-1...  covid\n",
              "1      1  /content/drive/MyDrive/Colab_Notebooks/COVID-1...  covid\n",
              "2      2  /content/drive/MyDrive/Colab_Notebooks/COVID-1...  covid\n",
              "3      3  /content/drive/MyDrive/Colab_Notebooks/COVID-1...  covid\n",
              "4      4  /content/drive/MyDrive/Colab_Notebooks/COVID-1...  covid"
            ],
            "text/html": [
              "\n",
              "  <div id=\"df-d7661c7b-84b2-4ed9-ac32-6e1de5d6329f\">\n",
              "    <div class=\"colab-df-container\">\n",
              "      <div>\n",
              "<style scoped>\n",
              "    .dataframe tbody tr th:only-of-type {\n",
              "        vertical-align: middle;\n",
              "    }\n",
              "\n",
              "    .dataframe tbody tr th {\n",
              "        vertical-align: top;\n",
              "    }\n",
              "\n",
              "    .dataframe thead th {\n",
              "        text-align: right;\n",
              "    }\n",
              "</style>\n",
              "<table border=\"1\" class=\"dataframe\">\n",
              "  <thead>\n",
              "    <tr style=\"text-align: right;\">\n",
              "      <th></th>\n",
              "      <th>index</th>\n",
              "      <th>file_paths</th>\n",
              "      <th>labels</th>\n",
              "    </tr>\n",
              "  </thead>\n",
              "  <tbody>\n",
              "    <tr>\n",
              "      <th>0</th>\n",
              "      <td>0</td>\n",
              "      <td>/content/drive/MyDrive/Colab_Notebooks/COVID-1...</td>\n",
              "      <td>covid</td>\n",
              "    </tr>\n",
              "    <tr>\n",
              "      <th>1</th>\n",
              "      <td>1</td>\n",
              "      <td>/content/drive/MyDrive/Colab_Notebooks/COVID-1...</td>\n",
              "      <td>covid</td>\n",
              "    </tr>\n",
              "    <tr>\n",
              "      <th>2</th>\n",
              "      <td>2</td>\n",
              "      <td>/content/drive/MyDrive/Colab_Notebooks/COVID-1...</td>\n",
              "      <td>covid</td>\n",
              "    </tr>\n",
              "    <tr>\n",
              "      <th>3</th>\n",
              "      <td>3</td>\n",
              "      <td>/content/drive/MyDrive/Colab_Notebooks/COVID-1...</td>\n",
              "      <td>covid</td>\n",
              "    </tr>\n",
              "    <tr>\n",
              "      <th>4</th>\n",
              "      <td>4</td>\n",
              "      <td>/content/drive/MyDrive/Colab_Notebooks/COVID-1...</td>\n",
              "      <td>covid</td>\n",
              "    </tr>\n",
              "  </tbody>\n",
              "</table>\n",
              "</div>\n",
              "      <button class=\"colab-df-convert\" onclick=\"convertToInteractive('df-d7661c7b-84b2-4ed9-ac32-6e1de5d6329f')\"\n",
              "              title=\"Convert this dataframe to an interactive table.\"\n",
              "              style=\"display:none;\">\n",
              "        \n",
              "  <svg xmlns=\"http://www.w3.org/2000/svg\" height=\"24px\"viewBox=\"0 0 24 24\"\n",
              "       width=\"24px\">\n",
              "    <path d=\"M0 0h24v24H0V0z\" fill=\"none\"/>\n",
              "    <path d=\"M18.56 5.44l.94 2.06.94-2.06 2.06-.94-2.06-.94-.94-2.06-.94 2.06-2.06.94zm-11 1L8.5 8.5l.94-2.06 2.06-.94-2.06-.94L8.5 2.5l-.94 2.06-2.06.94zm10 10l.94 2.06.94-2.06 2.06-.94-2.06-.94-.94-2.06-.94 2.06-2.06.94z\"/><path d=\"M17.41 7.96l-1.37-1.37c-.4-.4-.92-.59-1.43-.59-.52 0-1.04.2-1.43.59L10.3 9.45l-7.72 7.72c-.78.78-.78 2.05 0 2.83L4 21.41c.39.39.9.59 1.41.59.51 0 1.02-.2 1.41-.59l7.78-7.78 2.81-2.81c.8-.78.8-2.07 0-2.86zM5.41 20L4 18.59l7.72-7.72 1.47 1.35L5.41 20z\"/>\n",
              "  </svg>\n",
              "      </button>\n",
              "      \n",
              "  <style>\n",
              "    .colab-df-container {\n",
              "      display:flex;\n",
              "      flex-wrap:wrap;\n",
              "      gap: 12px;\n",
              "    }\n",
              "\n",
              "    .colab-df-convert {\n",
              "      background-color: #E8F0FE;\n",
              "      border: none;\n",
              "      border-radius: 50%;\n",
              "      cursor: pointer;\n",
              "      display: none;\n",
              "      fill: #1967D2;\n",
              "      height: 32px;\n",
              "      padding: 0 0 0 0;\n",
              "      width: 32px;\n",
              "    }\n",
              "\n",
              "    .colab-df-convert:hover {\n",
              "      background-color: #E2EBFA;\n",
              "      box-shadow: 0px 1px 2px rgba(60, 64, 67, 0.3), 0px 1px 3px 1px rgba(60, 64, 67, 0.15);\n",
              "      fill: #174EA6;\n",
              "    }\n",
              "\n",
              "    [theme=dark] .colab-df-convert {\n",
              "      background-color: #3B4455;\n",
              "      fill: #D2E3FC;\n",
              "    }\n",
              "\n",
              "    [theme=dark] .colab-df-convert:hover {\n",
              "      background-color: #434B5C;\n",
              "      box-shadow: 0px 1px 3px 1px rgba(0, 0, 0, 0.15);\n",
              "      filter: drop-shadow(0px 1px 2px rgba(0, 0, 0, 0.3));\n",
              "      fill: #FFFFFF;\n",
              "    }\n",
              "  </style>\n",
              "\n",
              "      <script>\n",
              "        const buttonEl =\n",
              "          document.querySelector('#df-d7661c7b-84b2-4ed9-ac32-6e1de5d6329f button.colab-df-convert');\n",
              "        buttonEl.style.display =\n",
              "          google.colab.kernel.accessAllowed ? 'block' : 'none';\n",
              "\n",
              "        async function convertToInteractive(key) {\n",
              "          const element = document.querySelector('#df-d7661c7b-84b2-4ed9-ac32-6e1de5d6329f');\n",
              "          const dataTable =\n",
              "            await google.colab.kernel.invokeFunction('convertToInteractive',\n",
              "                                                     [key], {});\n",
              "          if (!dataTable) return;\n",
              "\n",
              "          const docLinkHtml = 'Like what you see? Visit the ' +\n",
              "            '<a target=\"_blank\" href=https://colab.research.google.com/notebooks/data_table.ipynb>data table notebook</a>'\n",
              "            + ' to learn more about interactive tables.';\n",
              "          element.innerHTML = '';\n",
              "          dataTable['output_type'] = 'display_data';\n",
              "          await google.colab.output.renderOutput(dataTable, element);\n",
              "          const docLink = document.createElement('div');\n",
              "          docLink.innerHTML = docLinkHtml;\n",
              "          element.appendChild(docLink);\n",
              "        }\n",
              "      </script>\n",
              "    </div>\n",
              "  </div>\n",
              "  "
            ]
          },
          "metadata": {},
          "execution_count": 10
        }
      ]
    },
    {
      "cell_type": "code",
      "source": [
        "pneumonia_count_upd = pneumonia_count + len(labels)\n",
        "pneumonia_max_index=(df.labels.values == 'pneumonia').argmax()\n",
        "print(pneumonia_max_index)"
      ],
      "metadata": {
        "id": "aS9BYdVxRGas",
        "colab": {
          "base_uri": "https://localhost:8080/"
        },
        "outputId": "54f934a9-0af8-4439-ed66-1f70d048703d"
      },
      "execution_count": 11,
      "outputs": [
        {
          "output_type": "stream",
          "name": "stdout",
          "text": [
            "10848\n"
          ]
        }
      ]
    },
    {
      "cell_type": "code",
      "source": [
        "#drop surplus pneumonia\n",
        "for i in range(pneumonia_count_upd - covid_count):\n",
        "    df = df.drop([pneumonia_max_index + i])"
      ],
      "metadata": {
        "id": "1Rdsv3GzSOPe"
      },
      "execution_count": 12,
      "outputs": []
    },
    {
      "cell_type": "code",
      "source": [
        "#plot current dataset state\n",
        "print(df['labels'].value_counts())\n",
        "df['labels'].value_counts().plot(kind=\"bar\", color = \"b\")\n",
        "plt.rc('font',size=20)\n",
        "plt.grid(True, c=\"0.45\")\n",
        "plt.show()\n",
        "#------------------DATA_PRE-PROCESSING---------------------------#"
      ],
      "metadata": {
        "id": "S4ZITOvvRScq",
        "colab": {
          "base_uri": "https://localhost:8080/",
          "height": 470
        },
        "outputId": "90705b54-2541-4a83-e7be-e1829c2687e5"
      },
      "execution_count": 13,
      "outputs": [
        {
          "output_type": "stream",
          "name": "stdout",
          "text": [
            "covid           3616\n",
            "lung_opacity    3616\n",
            "normal          3616\n",
            "pneumonia       3616\n",
            "Name: labels, dtype: int64\n"
          ]
        },
        {
          "output_type": "display_data",
          "data": {
            "text/plain": [
              "<Figure size 432x288 with 1 Axes>"
            ],
            "image/png": "[encoded data removed]"
          },
          "metadata": {
            "needs_background": "light"
          }
        }
      ]
    },
    {
      "cell_type": "code",
      "source": [
        "target_size=(299,299)\n",
        "batch_size=16"
      ],
      "metadata": {
        "id": "PC6UdoSBIdEP"
      },
      "execution_count": 14,
      "outputs": []
    },
    {
      "cell_type": "code",
      "source": [
        "train_datagen = ImageDataGenerator(rotation_range=20, zoom_range=0.2, preprocessing_function=tf.keras.applications.xception.preprocess_input, validation_split=0.1)\n",
        "test_datagen = ImageDataGenerator(preprocessing_function=tf.keras.applications.xception.preprocess_input)\n",
        "train_df, test_df = train_test_split(df, train_size=0.8, shuffle=True, random_state = 357)\n",
        "train_set = train_datagen.flow_from_dataframe(train_df, x_col='file_paths', y_col='labels', target_size=target_size, batch_size=batch_size, color_mode='rgb', shuffle=True, class_mode='categorical', subset='training')\n",
        "valid_set = train_datagen.flow_from_dataframe(train_df, x_col='file_paths', y_col='labels', target_size=target_size, batch_size=batch_size, color_mode='rgb', shuffle=True, class_mode='categorical', subset='validation')\n",
        "test_set = test_datagen.flow_from_dataframe(test_df, x_col='file_paths', y_col='labels', target_size=target_size, batch_size=batch_size, color_mode='rgb', shuffle=True, class_mode='categorical')\n",
        "test_x, test_y = next(test_set)"
      ],
      "metadata": {
        "colab": {
          "base_uri": "https://localhost:8080/"
        },
        "id": "sE_88blsHLjo",
        "outputId": "83f8d296-640a-43f7-d675-c087769c1458"
      },
      "execution_count": 15,
      "outputs": [
        {
          "output_type": "stream",
          "name": "stdout",
          "text": [
            "Found 10414 validated image filenames belonging to 4 classes.\n",
            "Found 1157 validated image filenames belonging to 4 classes.\n",
            "Found 2893 validated image filenames belonging to 4 classes.\n"
          ]
        }
      ]
    },
    {
      "cell_type": "code",
      "source": [
        "train_df.head()"
      ],
      "metadata": {
        "colab": {
          "base_uri": "https://localhost:8080/",
          "height": 206
        },
        "id": "O-ZTQEecH3gO",
        "outputId": "7677d3a4-2b53-4c7c-b015-fdaf84f8d051"
      },
      "execution_count": 16,
      "outputs": [
        {
          "output_type": "execute_result",
          "data": {
            "text/plain": [
              "       index                                         file_paths        labels\n",
              "3821    6217  /content/drive/MyDrive/Colab_Notebooks/COVID-1...  lung_opacity\n",
              "15765   3572  /content/drive/MyDrive/Colab_Notebooks/PNEUMON...     pneumonia\n",
              "7409   16381  /content/drive/MyDrive/Colab_Notebooks/COVID-1...        normal\n",
              "9255   18227  /content/drive/MyDrive/Colab_Notebooks/COVID-1...        normal\n",
              "16021   3828  /content/drive/MyDrive/Colab_Notebooks/PNEUMON...     pneumonia"
            ],
            "text/html": [
              "\n",
              "  <div id=\"df-661fc489-ab14-4d57-88bc-9a17bbb0aafb\">\n",
              "    <div class=\"colab-df-container\">\n",
              "      <div>\n",
              "<style scoped>\n",
              "    .dataframe tbody tr th:only-of-type {\n",
              "        vertical-align: middle;\n",
              "    }\n",
              "\n",
              "    .dataframe tbody tr th {\n",
              "        vertical-align: top;\n",
              "    }\n",
              "\n",
              "    .dataframe thead th {\n",
              "        text-align: right;\n",
              "    }\n",
              "</style>\n",
              "<table border=\"1\" class=\"dataframe\">\n",
              "  <thead>\n",
              "    <tr style=\"text-align: right;\">\n",
              "      <th></th>\n",
              "      <th>index</th>\n",
              "      <th>file_paths</th>\n",
              "      <th>labels</th>\n",
              "    </tr>\n",
              "  </thead>\n",
              "  <tbody>\n",
              "    <tr>\n",
              "      <th>3821</th>\n",
              "      <td>6217</td>\n",
              "      <td>/content/drive/MyDrive/Colab_Notebooks/COVID-1...</td>\n",
              "      <td>lung_opacity</td>\n",
              "    </tr>\n",
              "    <tr>\n",
              "      <th>15765</th>\n",
              "      <td>3572</td>\n",
              "      <td>/content/drive/MyDrive/Colab_Notebooks/PNEUMON...</td>\n",
              "      <td>pneumonia</td>\n",
              "    </tr>\n",
              "    <tr>\n",
              "      <th>7409</th>\n",
              "      <td>16381</td>\n",
              "      <td>/content/drive/MyDrive/Colab_Notebooks/COVID-1...</td>\n",
              "      <td>normal</td>\n",
              "    </tr>\n",
              "    <tr>\n",
              "      <th>9255</th>\n",
              "      <td>18227</td>\n",
              "      <td>/content/drive/MyDrive/Colab_Notebooks/COVID-1...</td>\n",
              "      <td>normal</td>\n",
              "    </tr>\n",
              "    <tr>\n",
              "      <th>16021</th>\n",
              "      <td>3828</td>\n",
              "      <td>/content/drive/MyDrive/Colab_Notebooks/PNEUMON...</td>\n",
              "      <td>pneumonia</td>\n",
              "    </tr>\n",
              "  </tbody>\n",
              "</table>\n",
              "</div>\n",
              "      <button class=\"colab-df-convert\" onclick=\"convertToInteractive('df-661fc489-ab14-4d57-88bc-9a17bbb0aafb')\"\n",
              "              title=\"Convert this dataframe to an interactive table.\"\n",
              "              style=\"display:none;\">\n",
              "        \n",
              "  <svg xmlns=\"http://www.w3.org/2000/svg\" height=\"24px\"viewBox=\"0 0 24 24\"\n",
              "       width=\"24px\">\n",
              "    <path d=\"M0 0h24v24H0V0z\" fill=\"none\"/>\n",
              "    <path d=\"M18.56 5.44l.94 2.06.94-2.06 2.06-.94-2.06-.94-.94-2.06-.94 2.06-2.06.94zm-11 1L8.5 8.5l.94-2.06 2.06-.94-2.06-.94L8.5 2.5l-.94 2.06-2.06.94zm10 10l.94 2.06.94-2.06 2.06-.94-2.06-.94-.94-2.06-.94 2.06-2.06.94z\"/><path d=\"M17.41 7.96l-1.37-1.37c-.4-.4-.92-.59-1.43-.59-.52 0-1.04.2-1.43.59L10.3 9.45l-7.72 7.72c-.78.78-.78 2.05 0 2.83L4 21.41c.39.39.9.59 1.41.59.51 0 1.02-.2 1.41-.59l7.78-7.78 2.81-2.81c.8-.78.8-2.07 0-2.86zM5.41 20L4 18.59l7.72-7.72 1.47 1.35L5.41 20z\"/>\n",
              "  </svg>\n",
              "      </button>\n",
              "      \n",
              "  <style>\n",
              "    .colab-df-container {\n",
              "      display:flex;\n",
              "      flex-wrap:wrap;\n",
              "      gap: 12px;\n",
              "    }\n",
              "\n",
              "    .colab-df-convert {\n",
              "      background-color: #E8F0FE;\n",
              "      border: none;\n",
              "      border-radius: 50%;\n",
              "      cursor: pointer;\n",
              "      display: none;\n",
              "      fill: #1967D2;\n",
              "      height: 32px;\n",
              "      padding: 0 0 0 0;\n",
              "      width: 32px;\n",
              "    }\n",
              "\n",
              "    .colab-df-convert:hover {\n",
              "      background-color: #E2EBFA;\n",
              "      box-shadow: 0px 1px 2px rgba(60, 64, 67, 0.3), 0px 1px 3px 1px rgba(60, 64, 67, 0.15);\n",
              "      fill: #174EA6;\n",
              "    }\n",
              "\n",
              "    [theme=dark] .colab-df-convert {\n",
              "      background-color: #3B4455;\n",
              "      fill: #D2E3FC;\n",
              "    }\n",
              "\n",
              "    [theme=dark] .colab-df-convert:hover {\n",
              "      background-color: #434B5C;\n",
              "      box-shadow: 0px 1px 3px 1px rgba(0, 0, 0, 0.15);\n",
              "      filter: drop-shadow(0px 1px 2px rgba(0, 0, 0, 0.3));\n",
              "      fill: #FFFFFF;\n",
              "    }\n",
              "  </style>\n",
              "\n",
              "      <script>\n",
              "        const buttonEl =\n",
              "          document.querySelector('#df-661fc489-ab14-4d57-88bc-9a17bbb0aafb button.colab-df-convert');\n",
              "        buttonEl.style.display =\n",
              "          google.colab.kernel.accessAllowed ? 'block' : 'none';\n",
              "\n",
              "        async function convertToInteractive(key) {\n",
              "          const element = document.querySelector('#df-661fc489-ab14-4d57-88bc-9a17bbb0aafb');\n",
              "          const dataTable =\n",
              "            await google.colab.kernel.invokeFunction('convertToInteractive',\n",
              "                                                     [key], {});\n",
              "          if (!dataTable) return;\n",
              "\n",
              "          const docLinkHtml = 'Like what you see? Visit the ' +\n",
              "            '<a target=\"_blank\" href=https://colab.research.google.com/notebooks/data_table.ipynb>data table notebook</a>'\n",
              "            + ' to learn more about interactive tables.';\n",
              "          element.innerHTML = '';\n",
              "          dataTable['output_type'] = 'display_data';\n",
              "          await google.colab.output.renderOutput(dataTable, element);\n",
              "          const docLink = document.createElement('div');\n",
              "          docLink.innerHTML = docLinkHtml;\n",
              "          element.appendChild(docLink);\n",
              "        }\n",
              "      </script>\n",
              "    </div>\n",
              "  </div>\n",
              "  "
            ]
          },
          "metadata": {},
          "execution_count": 16
        }
      ]
    },
    {
      "cell_type": "code",
      "source": [
        "test_df.head()"
      ],
      "metadata": {
        "colab": {
          "base_uri": "https://localhost:8080/",
          "height": 206
        },
        "id": "YltR80p3H-Jd",
        "outputId": "4e91cb59-ec64-43c4-ac4d-738a912993f8"
      },
      "execution_count": 17,
      "outputs": [
        {
          "output_type": "execute_result",
          "data": {
            "text/plain": [
              "       index                                         file_paths        labels\n",
              "13991   1798  /content/drive/MyDrive/Colab_Notebooks/PNEUMON...     pneumonia\n",
              "1157    1157  /content/drive/MyDrive/Colab_Notebooks/COVID-1...         covid\n",
              "7848   16820  /content/drive/MyDrive/Colab_Notebooks/COVID-1...        normal\n",
              "5296    7692  /content/drive/MyDrive/Colab_Notebooks/COVID-1...  lung_opacity\n",
              "2527    2527  /content/drive/MyDrive/Colab_Notebooks/COVID-1...         covid"
            ],
            "text/html": [
              "\n",
              "  <div id=\"df-53085f8b-e108-4152-a419-da5427918475\">\n",
              "    <div class=\"colab-df-container\">\n",
              "      <div>\n",
              "<style scoped>\n",
              "    .dataframe tbody tr th:only-of-type {\n",
              "        vertical-align: middle;\n",
              "    }\n",
              "\n",
              "    .dataframe tbody tr th {\n",
              "        vertical-align: top;\n",
              "    }\n",
              "\n",
              "    .dataframe thead th {\n",
              "        text-align: right;\n",
              "    }\n",
              "</style>\n",
              "<table border=\"1\" class=\"dataframe\">\n",
              "  <thead>\n",
              "    <tr style=\"text-align: right;\">\n",
              "      <th></th>\n",
              "      <th>index</th>\n",
              "      <th>file_paths</th>\n",
              "      <th>labels</th>\n",
              "    </tr>\n",
              "  </thead>\n",
              "  <tbody>\n",
              "    <tr>\n",
              "      <th>13991</th>\n",
              "      <td>1798</td>\n",
              "      <td>/content/drive/MyDrive/Colab_Notebooks/PNEUMON...</td>\n",
              "      <td>pneumonia</td>\n",
              "    </tr>\n",
              "    <tr>\n",
              "      <th>1157</th>\n",
              "      <td>1157</td>\n",
              "      <td>/content/drive/MyDrive/Colab_Notebooks/COVID-1...</td>\n",
              "      <td>covid</td>\n",
              "    </tr>\n",
              "    <tr>\n",
              "      <th>7848</th>\n",
              "      <td>16820</td>\n",
              "      <td>/content/drive/MyDrive/Colab_Notebooks/COVID-1...</td>\n",
              "      <td>normal</td>\n",
              "    </tr>\n",
              "    <tr>\n",
              "      <th>5296</th>\n",
              "      <td>7692</td>\n",
              "      <td>/content/drive/MyDrive/Colab_Notebooks/COVID-1...</td>\n",
              "      <td>lung_opacity</td>\n",
              "    </tr>\n",
              "    <tr>\n",
              "      <th>2527</th>\n",
              "      <td>2527</td>\n",
              "      <td>/content/drive/MyDrive/Colab_Notebooks/COVID-1...</td>\n",
              "      <td>covid</td>\n",
              "    </tr>\n",
              "  </tbody>\n",
              "</table>\n",
              "</div>\n",
              "      <button class=\"colab-df-convert\" onclick=\"convertToInteractive('df-53085f8b-e108-4152-a419-da5427918475')\"\n",
              "              title=\"Convert this dataframe to an interactive table.\"\n",
              "              style=\"display:none;\">\n",
              "        \n",
              "  <svg xmlns=\"http://www.w3.org/2000/svg\" height=\"24px\"viewBox=\"0 0 24 24\"\n",
              "       width=\"24px\">\n",
              "    <path d=\"M0 0h24v24H0V0z\" fill=\"none\"/>\n",
              "    <path d=\"M18.56 5.44l.94 2.06.94-2.06 2.06-.94-2.06-.94-.94-2.06-.94 2.06-2.06.94zm-11 1L8.5 8.5l.94-2.06 2.06-.94-2.06-.94L8.5 2.5l-.94 2.06-2.06.94zm10 10l.94 2.06.94-2.06 2.06-.94-2.06-.94-.94-2.06-.94 2.06-2.06.94z\"/><path d=\"M17.41 7.96l-1.37-1.37c-.4-.4-.92-.59-1.43-.59-.52 0-1.04.2-1.43.59L10.3 9.45l-7.72 7.72c-.78.78-.78 2.05 0 2.83L4 21.41c.39.39.9.59 1.41.59.51 0 1.02-.2 1.41-.59l7.78-7.78 2.81-2.81c.8-.78.8-2.07 0-2.86zM5.41 20L4 18.59l7.72-7.72 1.47 1.35L5.41 20z\"/>\n",
              "  </svg>\n",
              "      </button>\n",
              "      \n",
              "  <style>\n",
              "    .colab-df-container {\n",
              "      display:flex;\n",
              "      flex-wrap:wrap;\n",
              "      gap: 12px;\n",
              "    }\n",
              "\n",
              "    .colab-df-convert {\n",
              "      background-color: #E8F0FE;\n",
              "      border: none;\n",
              "      border-radius: 50%;\n",
              "      cursor: pointer;\n",
              "      display: none;\n",
              "      fill: #1967D2;\n",
              "      height: 32px;\n",
              "      padding: 0 0 0 0;\n",
              "      width: 32px;\n",
              "    }\n",
              "\n",
              "    .colab-df-convert:hover {\n",
              "      background-color: #E2EBFA;\n",
              "      box-shadow: 0px 1px 2px rgba(60, 64, 67, 0.3), 0px 1px 3px 1px rgba(60, 64, 67, 0.15);\n",
              "      fill: #174EA6;\n",
              "    }\n",
              "\n",
              "    [theme=dark] .colab-df-convert {\n",
              "      background-color: #3B4455;\n",
              "      fill: #D2E3FC;\n",
              "    }\n",
              "\n",
              "    [theme=dark] .colab-df-convert:hover {\n",
              "      background-color: #434B5C;\n",
              "      box-shadow: 0px 1px 3px 1px rgba(0, 0, 0, 0.15);\n",
              "      filter: drop-shadow(0px 1px 2px rgba(0, 0, 0, 0.3));\n",
              "      fill: #FFFFFF;\n",
              "    }\n",
              "  </style>\n",
              "\n",
              "      <script>\n",
              "        const buttonEl =\n",
              "          document.querySelector('#df-53085f8b-e108-4152-a419-da5427918475 button.colab-df-convert');\n",
              "        buttonEl.style.display =\n",
              "          google.colab.kernel.accessAllowed ? 'block' : 'none';\n",
              "\n",
              "        async function convertToInteractive(key) {\n",
              "          const element = document.querySelector('#df-53085f8b-e108-4152-a419-da5427918475');\n",
              "          const dataTable =\n",
              "            await google.colab.kernel.invokeFunction('convertToInteractive',\n",
              "                                                     [key], {});\n",
              "          if (!dataTable) return;\n",
              "\n",
              "          const docLinkHtml = 'Like what you see? Visit the ' +\n",
              "            '<a target=\"_blank\" href=https://colab.research.google.com/notebooks/data_table.ipynb>data table notebook</a>'\n",
              "            + ' to learn more about interactive tables.';\n",
              "          element.innerHTML = '';\n",
              "          dataTable['output_type'] = 'display_data';\n",
              "          await google.colab.output.renderOutput(dataTable, element);\n",
              "          const docLink = document.createElement('div');\n",
              "          docLink.innerHTML = docLinkHtml;\n",
              "          element.appendChild(docLink);\n",
              "        }\n",
              "      </script>\n",
              "    </div>\n",
              "  </div>\n",
              "  "
            ]
          },
          "metadata": {},
          "execution_count": 17
        }
      ]
    },
    {
      "cell_type": "code",
      "source": [
        "print(test_df['labels'].value_counts())"
      ],
      "metadata": {
        "colab": {
          "base_uri": "https://localhost:8080/"
        },
        "id": "bjWb5DvNIOtG",
        "outputId": "620b369a-5ecd-45e1-d119-05d13da9847a"
      },
      "execution_count": 18,
      "outputs": [
        {
          "output_type": "stream",
          "name": "stdout",
          "text": [
            "normal          738\n",
            "lung_opacity    736\n",
            "covid           717\n",
            "pneumonia       702\n",
            "Name: labels, dtype: int64\n"
          ]
        }
      ]
    },
    {
      "cell_type": "code",
      "source": [
        "print(train_df['labels'].value_counts())\n",
        "#------------------DIVIDE_DATA_SET------------------------------#"
      ],
      "metadata": {
        "colab": {
          "base_uri": "https://localhost:8080/"
        },
        "id": "Lzv0dOyQIPMN",
        "outputId": "603df877-3ce5-4e14-d25c-a0ba2bb9367a"
      },
      "execution_count": 19,
      "outputs": [
        {
          "output_type": "stream",
          "name": "stdout",
          "text": [
            "pneumonia       2914\n",
            "covid           2899\n",
            "lung_opacity    2880\n",
            "normal          2878\n",
            "Name: labels, dtype: int64\n"
          ]
        }
      ]
    },
    {
      "cell_type": "code",
      "source": [
        "from tensorflow.keras.applications import Xception\n",
        "from tensorflow.keras.optimizers import Adam\n",
        "from tensorflow.keras.callbacks import LearningRateScheduler, EarlyStopping"
      ],
      "metadata": {
        "id": "RbpSrn0tYnbk"
      },
      "execution_count": 20,
      "outputs": []
    },
    {
      "cell_type": "code",
      "source": [
        "input_shape = (299,299,3)\n",
        "classifier_activation='softmax'\n",
        "classes=4\n",
        "batch_size = 16\n",
        "learning_rate = 0.0001\n",
        "epochs = 20\n",
        "callbacks = None\n",
        "\n",
        "base_model = Xception(include_top = False, weights=None, input_shape = input_shape)"
      ],
      "metadata": {
        "id": "rLorDlc--Ayh"
      },
      "execution_count": 21,
      "outputs": []
    },
    {
      "cell_type": "code",
      "source": [
        "x = base_model.output"
      ],
      "metadata": {
        "id": "wmmsofwb-xu3"
      },
      "execution_count": 22,
      "outputs": []
    },
    {
      "cell_type": "code",
      "source": [
        "model = tf.keras.Sequential([\n",
        "    base_model, tf.keras.layers.GlobalAveragePooling2D(), tf.keras.layers.Dropout(0.2), tf.keras.layers.Dense(classes, activation='softmax')\n",
        "])"
      ],
      "metadata": {
        "id": "a7hofzHCBLhG"
      },
      "execution_count": 23,
      "outputs": []
    },
    {
      "cell_type": "code",
      "source": [
        "model.compile(optimizer=Adam(learning_rate=learning_rate),\n",
        "                  loss='categorical_crossentropy',\n",
        "                  metrics=['accuracy'])"
      ],
      "metadata": {
        "id": "lGbUi2HY-53N"
      },
      "execution_count": 24,
      "outputs": []
    },
    {
      "cell_type": "code",
      "source": [
        "patience = 1\n",
        "stop_patience = 5\n",
        "factor = 0.5\n",
        "\n",
        "callbacks = [\n",
        "    tf.keras.callbacks.EarlyStopping(patience=stop_patience, monitor='val_loss', verbose=1, restore_best_weights=True),\n",
        "    tf.keras.callbacks.ReduceLROnPlateau(monitor='val_loss', factor=factor, patience=patience, verbose=1)\n",
        "]"
      ],
      "metadata": {
        "id": "VFdrvEFfc_Q2"
      },
      "execution_count": 25,
      "outputs": []
    },
    {
      "cell_type": "code",
      "source": [
        "results = model.fit(train_set, epochs = epochs,\n",
        "                        validation_data = valid_set, \n",
        "                        batch_size = batch_size, \n",
        "                        callbacks = callbacks\n",
        "                        )"
      ],
      "metadata": {
        "id": "r3msL0pY-9AO",
        "outputId": "6b185c65-c60b-49e8-9f96-0dd75a0b6857",
        "colab": {
          "base_uri": "https://localhost:8080/"
        }
      },
      "execution_count": 26,
      "outputs": [
        {
          "output_type": "stream",
          "name": "stdout",
          "text": [
            "Epoch 1/20\n",
            "651/651 [==============================] - 3869s 6s/step - loss: 0.6230 - accuracy: 0.7458 - val_loss: 2.3068 - val_accuracy: 0.2446 - lr: 1.0000e-04\n",
            "Epoch 2/20\n",
            "651/651 [==============================] - 413s 634ms/step - loss: 0.3966 - accuracy: 0.8452 - val_loss: 0.4663 - val_accuracy: 0.8194 - lr: 1.0000e-04\n",
            "Epoch 3/20\n",
            "651/651 [==============================] - 412s 632ms/step - loss: 0.3264 - accuracy: 0.8772 - val_loss: 0.3749 - val_accuracy: 0.8462 - lr: 1.0000e-04\n",
            "Epoch 4/20\n",
            "651/651 [==============================] - 411s 631ms/step - loss: 0.2842 - accuracy: 0.8880 - val_loss: 0.2773 - val_accuracy: 0.8859 - lr: 1.0000e-04\n",
            "Epoch 5/20\n",
            "651/651 [==============================] - 412s 633ms/step - loss: 0.2446 - accuracy: 0.9095 - val_loss: 0.2488 - val_accuracy: 0.9084 - lr: 1.0000e-04\n",
            "Epoch 6/20\n",
            "651/651 [==============================] - 414s 635ms/step - loss: 0.2258 - accuracy: 0.9158 - val_loss: 0.2262 - val_accuracy: 0.9179 - lr: 1.0000e-04\n",
            "Epoch 7/20\n",
            "651/651 [==============================] - ETA: 0s - loss: 0.2216 - accuracy: 0.9189\n",
            "Epoch 7: ReduceLROnPlateau reducing learning rate to 4.999999873689376e-05.\n",
            "651/651 [==============================] - 411s 631ms/step - loss: 0.2216 - accuracy: 0.9189 - val_loss: 0.3030 - val_accuracy: 0.8868 - lr: 1.0000e-04\n",
            "Epoch 8/20\n",
            "651/651 [==============================] - ETA: 0s - loss: 0.1631 - accuracy: 0.9418\n",
            "Epoch 8: ReduceLROnPlateau reducing learning rate to 2.499999936844688e-05.\n",
            "651/651 [==============================] - 411s 630ms/step - loss: 0.1631 - accuracy: 0.9418 - val_loss: 0.2388 - val_accuracy: 0.9101 - lr: 5.0000e-05\n",
            "Epoch 9/20\n",
            "651/651 [==============================] - 412s 632ms/step - loss: 0.1301 - accuracy: 0.9523 - val_loss: 0.1545 - val_accuracy: 0.9430 - lr: 2.5000e-05\n",
            "Epoch 10/20\n",
            "651/651 [==============================] - 411s 631ms/step - loss: 0.1184 - accuracy: 0.9551 - val_loss: 0.1539 - val_accuracy: 0.9369 - lr: 2.5000e-05\n",
            "Epoch 11/20\n",
            "651/651 [==============================] - ETA: 0s - loss: 0.1151 - accuracy: 0.9577\n",
            "Epoch 11: ReduceLROnPlateau reducing learning rate to 1.249999968422344e-05.\n",
            "651/651 [==============================] - 413s 634ms/step - loss: 0.1151 - accuracy: 0.9577 - val_loss: 0.1766 - val_accuracy: 0.9421 - lr: 2.5000e-05\n",
            "Epoch 12/20\n",
            "651/651 [==============================] - ETA: 0s - loss: 0.0972 - accuracy: 0.9641\n",
            "Epoch 12: ReduceLROnPlateau reducing learning rate to 6.24999984211172e-06.\n",
            "651/651 [==============================] - 412s 633ms/step - loss: 0.0972 - accuracy: 0.9641 - val_loss: 0.1651 - val_accuracy: 0.9412 - lr: 1.2500e-05\n",
            "Epoch 13/20\n",
            "651/651 [==============================] - 411s 631ms/step - loss: 0.0832 - accuracy: 0.9708 - val_loss: 0.1426 - val_accuracy: 0.9473 - lr: 6.2500e-06\n",
            "Epoch 14/20\n",
            "651/651 [==============================] - 412s 633ms/step - loss: 0.0836 - accuracy: 0.9690 - val_loss: 0.1399 - val_accuracy: 0.9481 - lr: 6.2500e-06\n",
            "Epoch 15/20\n",
            "651/651 [==============================] - ETA: 0s - loss: 0.0784 - accuracy: 0.9728\n",
            "Epoch 15: ReduceLROnPlateau reducing learning rate to 3.12499992105586e-06.\n",
            "651/651 [==============================] - 412s 633ms/step - loss: 0.0784 - accuracy: 0.9728 - val_loss: 0.1416 - val_accuracy: 0.9378 - lr: 6.2500e-06\n",
            "Epoch 16/20\n",
            "651/651 [==============================] - ETA: 0s - loss: 0.0744 - accuracy: 0.9727\n",
            "Epoch 16: ReduceLROnPlateau reducing learning rate to 1.56249996052793e-06.\n",
            "651/651 [==============================] - 412s 632ms/step - loss: 0.0744 - accuracy: 0.9727 - val_loss: 0.1425 - val_accuracy: 0.9481 - lr: 3.1250e-06\n",
            "Epoch 17/20\n",
            "651/651 [==============================] - 411s 631ms/step - loss: 0.0726 - accuracy: 0.9744 - val_loss: 0.1372 - val_accuracy: 0.9464 - lr: 1.5625e-06\n",
            "Epoch 18/20\n",
            "651/651 [==============================] - ETA: 0s - loss: 0.0678 - accuracy: 0.9764\n",
            "Epoch 18: ReduceLROnPlateau reducing learning rate to 7.81249980263965e-07.\n",
            "651/651 [==============================] - 412s 633ms/step - loss: 0.0678 - accuracy: 0.9764 - val_loss: 0.1401 - val_accuracy: 0.9481 - lr: 1.5625e-06\n",
            "Epoch 19/20\n",
            "651/651 [==============================] - ETA: 0s - loss: 0.0677 - accuracy: 0.9752\n",
            "Epoch 19: ReduceLROnPlateau reducing learning rate to 3.906249901319825e-07.\n",
            "651/651 [==============================] - 412s 632ms/step - loss: 0.0677 - accuracy: 0.9752 - val_loss: 0.1392 - val_accuracy: 0.9412 - lr: 7.8125e-07\n",
            "Epoch 20/20\n",
            "651/651 [==============================] - 411s 630ms/step - loss: 0.0672 - accuracy: 0.9773 - val_loss: 0.1323 - val_accuracy: 0.9473 - lr: 3.9062e-07\n"
          ]
        }
      ]
    },
    {
      "cell_type": "code",
      "source": [
        "model.summary()"
      ],
      "metadata": {
        "id": "CmF7Bp3P_RKM",
        "colab": {
          "base_uri": "https://localhost:8080/"
        },
        "outputId": "05636926-9e11-44a7-d17d-3167116cd0c2"
      },
      "execution_count": 27,
      "outputs": [
        {
          "output_type": "stream",
          "name": "stdout",
          "text": [
            "Model: \"sequential\"\n",
            "_________________________________________________________________\n",
            " Layer (type)                Output Shape              Param #   \n",
            "=================================================================\n",
            " xception (Functional)       (None, 10, 10, 2048)      20861480  \n",
            "                                                                 \n",
            " global_average_pooling2d (G  (None, 2048)             0         \n",
            " lobalAveragePooling2D)                                          \n",
            "                                                                 \n",
            " dropout (Dropout)           (None, 2048)              0         \n",
            "                                                                 \n",
            " dense (Dense)               (None, 4)                 8196      \n",
            "                                                                 \n",
            "=================================================================\n",
            "Total params: 20,869,676\n",
            "Trainable params: 20,815,148\n",
            "Non-trainable params: 54,528\n",
            "_________________________________________________________________\n"
          ]
        }
      ]
    },
    {
      "cell_type": "code",
      "source": [
        "np.save('/content/sample_data/history_Xcep.npy', results.history)"
      ],
      "metadata": {
        "id": "5Pp9Iiy63MXw"
      },
      "execution_count": 28,
      "outputs": []
    },
    {
      "cell_type": "code",
      "source": [
        "save_model = '/content/sample_data/Xcep.h5'\n",
        "model.save(save_model)"
      ],
      "metadata": {
        "id": "6q6zgDBJ3cMa"
      },
      "execution_count": 29,
      "outputs": []
    },
    {
      "cell_type": "code",
      "source": [
        "plt.plot(results.history['accuracy'], label='accuracy')\n",
        "plt.plot(results.history['val_accuracy'], label = 'val_accuracy')\n",
        "plt.xlabel('Epoch')\n",
        "plt.ylabel('Accuracy')\n",
        "plt.ylim([0.5, 1])\n",
        "plt.legend(loc='lower right')"
      ],
      "metadata": {
        "id": "QuWZ-wKf_Tqs",
        "colab": {
          "base_uri": "https://localhost:8080/",
          "height": 322
        },
        "outputId": "1a0c74db-be00-4b4d-8f2f-e7f5201138f8"
      },
      "execution_count": 30,
      "outputs": [
        {
          "output_type": "execute_result",
          "data": {
            "text/plain": [
              "<matplotlib.legend.Legend at 0x7f15c2625150>"
            ]
          },
          "metadata": {},
          "execution_count": 30
        },
        {
          "output_type": "display_data",
          "data": {
            "text/plain": [
              "<Figure size 432x288 with 1 Axes>"
            ],
            "image/png": "[encoded data removed]"
          },
          "metadata": {
            "needs_background": "light"
          }
        }
      ]
    },
    {
      "cell_type": "code",
      "source": [
        "model.evaluate(test_set, batch_size=16)"
      ],
      "metadata": {
        "id": "9twFDeYc0TZn",
        "colab": {
          "base_uri": "https://localhost:8080/"
        },
        "outputId": "26d11de7-bf47-4454-e511-395478b4fa17"
      },
      "execution_count": 32,
      "outputs": [
        {
          "output_type": "stream",
          "name": "stdout",
          "text": [
            "181/181 [==============================] - 331s 2s/step - loss: 0.1564 - accuracy: 0.9475\n"
          ]
        },
        {
          "output_type": "execute_result",
          "data": {
            "text/plain": [
              "[0.15644389390945435, 0.9474593997001648]"
            ]
          },
          "metadata": {},
          "execution_count": 32
        }
      ]
    },
    {
      "cell_type": "code",
      "source": [
        "model.predict(test_set)"
      ],
      "metadata": {
        "id": "YVTzlhd147IL",
        "colab": {
          "base_uri": "https://localhost:8080/"
        },
        "outputId": "762b15f7-8d79-4364-8b3a-312e725c3e45"
      },
      "execution_count": 33,
      "outputs": [
        {
          "output_type": "execute_result",
          "data": {
            "text/plain": [
              "array([[6.6501560e-04, 9.9277534e-02, 9.0001029e-01, 4.7158621e-05],\n",
              "       [2.3652003e-05, 5.7532366e-02, 9.4231182e-01, 1.3207915e-04],\n",
              "       [2.3710420e-10, 4.6128455e-11, 1.1842904e-11, 1.0000000e+00],\n",
              "       ...,\n",
              "       [1.2667695e-10, 2.8145117e-10, 3.2275735e-10, 1.0000000e+00],\n",
              "       [1.7373117e-04, 1.0515478e-02, 9.8853672e-01, 7.7414291e-04],\n",
              "       [9.9775994e-01, 8.8307934e-06, 4.0258281e-05, 2.1910027e-03]],\n",
              "      dtype=float32)"
            ]
          },
          "metadata": {},
          "execution_count": 33
        }
      ]
    },
    {
      "cell_type": "code",
      "source": [
        "predict = model.predict(test_set)"
      ],
      "metadata": {
        "id": "EPMkixYNIrT7"
      },
      "execution_count": 34,
      "outputs": []
    },
    {
      "cell_type": "code",
      "source": [
        "np.save('/content/sample_data/predict_Xcep.npy', predict)"
      ],
      "metadata": {
        "id": "SVCXUgSaI50t"
      },
      "execution_count": 35,
      "outputs": []
    },
    {
      "cell_type": "code",
      "source": [
        "len(predict)"
      ],
      "metadata": {
        "colab": {
          "base_uri": "https://localhost:8080/"
        },
        "id": "JGbMlwaaI9Vt",
        "outputId": "5125154e-2f6e-4d07-f37a-0f050c8ba562"
      },
      "execution_count": 36,
      "outputs": [
        {
          "output_type": "execute_result",
          "data": {
            "text/plain": [
              "2893"
            ]
          },
          "metadata": {},
          "execution_count": 36
        }
      ]
    },
    {
      "cell_type": "code",
      "source": [
        "test_df"
      ],
      "metadata": {
        "id": "gJ1aTLIuJuLm"
      },
      "execution_count": null,
      "outputs": []
    },
    {
      "cell_type": "code",
      "source": [
        "predict[1]"
      ],
      "metadata": {
        "colab": {
          "base_uri": "https://localhost:8080/"
        },
        "id": "F2q6lLmGMVZv",
        "outputId": "1645661e-1fab-4101-d5e7-e0554ff5b246"
      },
      "execution_count": 46,
      "outputs": [
        {
          "output_type": "execute_result",
          "data": {
            "text/plain": [
              "array([1.3895807e-08, 4.2498931e-11, 1.7504599e-09, 1.0000000e+00],\n",
              "      dtype=float32)"
            ]
          },
          "metadata": {},
          "execution_count": 46
        }
      ]
    }
  ]
}